{
  "cells": [
    {
      "cell_type": "code",
      "execution_count": 258,
      "metadata": {
        "id": "HwNsh45Gse25"
      },
      "outputs": [],
      "source": [
        "#hide\n",
        "! [ -e /content ] && pip install -Uqq fastbook\n",
        "import fastbook\n",
        "fastbook.setup_book()"
      ]
    },
    {
      "cell_type": "code",
      "execution_count": 259,
      "metadata": {
        "id": "Ye52SXN4se3C"
      },
      "outputs": [],
      "source": [
        "#hide\n",
        "from fastai.vision.all import *\n",
        "from fastbook import *\n",
        "\n",
        "matplotlib.rc('image', cmap='Greys')"
      ]
    },
    {
      "cell_type": "markdown",
      "metadata": {
        "id": "G04pH0HKse3E"
      },
      "source": [
        "# Under the Hood: Training a Digit Classifier"
      ]
    },
    {
      "cell_type": "markdown",
      "metadata": {
        "id": "uNQQYr8Qse3T"
      },
      "source": [
        "## Pixels: The Foundations of Computer Vision"
      ]
    },
    {
      "cell_type": "markdown",
      "metadata": {
        "id": "zi_C3Vtmse3X"
      },
      "source": [
        "## Sidebar: Tenacity and Deep Learning"
      ]
    },
    {
      "cell_type": "markdown",
      "metadata": {
        "id": "zS2AVagDse3a"
      },
      "source": [
        "## End sidebar"
      ]
    },
    {
      "cell_type": "code",
      "execution_count": 260,
      "metadata": {
        "id": "l1eoGm8Lse3d"
      },
      "outputs": [],
      "source": [
        "path = untar_data(URLs.MNIST_SAMPLE)"
      ]
    },
    {
      "cell_type": "code",
      "execution_count": 261,
      "metadata": {
        "id": "zwy9u4rrse3g"
      },
      "outputs": [],
      "source": [
        "#hide\n",
        "Path.BASE_PATH = path"
      ]
    },
    {
      "cell_type": "code",
      "execution_count": 262,
      "metadata": {
        "id": "2bd-_0NGse3i",
        "outputId": "41555391-ba2f-4dbf-d6c7-f0122f6a363e",
        "colab": {
          "base_uri": "https://localhost:8080/"
        }
      },
      "outputs": [
        {
          "output_type": "execute_result",
          "data": {
            "text/plain": [
              "(#3) [Path('valid'),Path('labels.csv'),Path('train')]"
            ]
          },
          "metadata": {},
          "execution_count": 262
        }
      ],
      "source": [
        "path.ls()"
      ]
    },
    {
      "cell_type": "code",
      "execution_count": 263,
      "metadata": {
        "id": "L6Oxj_Bnse3j",
        "outputId": "6562b611-a8af-4867-902e-4040d0897c32",
        "colab": {
          "base_uri": "https://localhost:8080/"
        }
      },
      "outputs": [
        {
          "output_type": "execute_result",
          "data": {
            "text/plain": [
              "(#2) [Path('train/3'),Path('train/7')]"
            ]
          },
          "metadata": {},
          "execution_count": 263
        }
      ],
      "source": [
        "(path/'train').ls()"
      ]
    },
    {
      "cell_type": "code",
      "execution_count": 264,
      "metadata": {
        "id": "jzTs8N_Fse3l",
        "outputId": "0fe9f196-d740-420a-bf59-44ac08924176",
        "colab": {
          "base_uri": "https://localhost:8080/"
        }
      },
      "outputs": [
        {
          "output_type": "execute_result",
          "data": {
            "text/plain": [
              "(#6131) [Path('train/3/10.png'),Path('train/3/10000.png'),Path('train/3/10011.png'),Path('train/3/10031.png'),Path('train/3/10034.png'),Path('train/3/10042.png'),Path('train/3/10052.png'),Path('train/3/1007.png'),Path('train/3/10074.png'),Path('train/3/10091.png')...]"
            ]
          },
          "metadata": {},
          "execution_count": 264
        }
      ],
      "source": [
        "threes = (path/'train'/'3').ls().sorted()\n",
        "sevens = (path/'train'/'7').ls().sorted()\n",
        "threes #sorted paths to 3 number images"
      ]
    },
    {
      "cell_type": "code",
      "execution_count": 265,
      "metadata": {
        "id": "kvTLjP5Tse3m",
        "outputId": "fe47695e-7594-4618-843d-74302ad626b7",
        "colab": {
          "base_uri": "https://localhost:8080/",
          "height": 45
        }
      },
      "outputs": [
        {
          "output_type": "execute_result",
          "data": {
            "text/plain": [
              "<PIL.PngImagePlugin.PngImageFile image mode=L size=28x28>"
            ],
            "image/png": "[encoded data removed]"
          },
          "metadata": {},
          "execution_count": 265
        }
      ],
      "source": [
        "im3_path = threes[1]\n",
        "im3 = Image.open(im3_path) #show one image in dataset.\n",
        "im3 #Image class from PIL (Python Imaging Library)"
      ]
    },
    {
      "cell_type": "code",
      "execution_count": 266,
      "metadata": {
        "id": "J2cJ4yuIse3o",
        "outputId": "be4e3644-12f5-4d13-aa45-3d95ab4ecb6d",
        "colab": {
          "base_uri": "https://localhost:8080/"
        }
      },
      "outputs": [
        {
          "output_type": "execute_result",
          "data": {
            "text/plain": [
              "array([[  0,   0,   0,   0,   0,   0],\n",
              "       [  0,   0,   0,   0,   0,  29],\n",
              "       [  0,   0,   0,  48, 166, 224],\n",
              "       [  0,  93, 244, 249, 253, 187],\n",
              "       [  0, 107, 253, 253, 230,  48],\n",
              "       [  0,   3,  20,  20,  15,   0]], dtype=uint8)"
            ]
          },
          "metadata": {},
          "execution_count": 266
        }
      ],
      "source": [
        "array(im3)[4:10,4:10] #part of image converted to NumPy array or PyTorch tensor.\n",
        "#4:10 => rows from [4-10) index 10 not included. same for columns."
      ]
    },
    {
      "cell_type": "code",
      "execution_count": 267,
      "metadata": {
        "id": "ID7z_pG0se3o",
        "outputId": "3e1e5c21-a3fc-4ba7-8ea0-be1ef7ca74cf",
        "colab": {
          "base_uri": "https://localhost:8080/"
        }
      },
      "outputs": [
        {
          "output_type": "execute_result",
          "data": {
            "text/plain": [
              "tensor([[  0,   0,   0,   0,   0,   0],\n",
              "        [  0,   0,   0,   0,   0,  29],\n",
              "        [  0,   0,   0,  48, 166, 224],\n",
              "        [  0,  93, 244, 249, 253, 187],\n",
              "        [  0, 107, 253, 253, 230,  48],\n",
              "        [  0,   3,  20,  20,  15,   0]], dtype=torch.uint8)"
            ]
          },
          "metadata": {},
          "execution_count": 267
        }
      ],
      "source": [
        "tensor(im3)[4:10,4:10]"
      ]
    },
    {
      "cell_type": "code",
      "execution_count": 268,
      "metadata": {
        "id": "3RVpnxyMse3s",
        "outputId": "6e9867de-ef83-4032-ab84-06ec52d8ec34",
        "colab": {
          "base_uri": "https://localhost:8080/",
          "height": 394
        }
      },
      "outputs": [
        {
          "output_type": "execute_result",
          "data": {
            "text/plain": [
              "<pandas.io.formats.style.Styler at 0x7f46418deaf0>"
            ],
            "text/html": [
              "<style type=\"text/css\">\n",
              "#T_cf2b3_row0_col0, #T_cf2b3_row0_col1, #T_cf2b3_row0_col2, #T_cf2b3_row0_col3, #T_cf2b3_row0_col4, #T_cf2b3_row0_col5, #T_cf2b3_row0_col6, #T_cf2b3_row0_col7, #T_cf2b3_row0_col8, #T_cf2b3_row0_col9, #T_cf2b3_row0_col10, #T_cf2b3_row0_col11, #T_cf2b3_row0_col12, #T_cf2b3_row0_col13, #T_cf2b3_row0_col14, #T_cf2b3_row0_col15, #T_cf2b3_row0_col16, #T_cf2b3_row0_col17, #T_cf2b3_row1_col0, #T_cf2b3_row1_col1, #T_cf2b3_row1_col2, #T_cf2b3_row1_col3, #T_cf2b3_row1_col4, #T_cf2b3_row1_col15, #T_cf2b3_row1_col16, #T_cf2b3_row1_col17, #T_cf2b3_row2_col0, #T_cf2b3_row2_col1, #T_cf2b3_row2_col2, #T_cf2b3_row2_col15, #T_cf2b3_row2_col16, #T_cf2b3_row2_col17, #T_cf2b3_row3_col0, #T_cf2b3_row3_col15, #T_cf2b3_row3_col16, #T_cf2b3_row3_col17, #T_cf2b3_row4_col0, #T_cf2b3_row4_col6, #T_cf2b3_row4_col7, #T_cf2b3_row4_col8, #T_cf2b3_row4_col9, #T_cf2b3_row4_col10, #T_cf2b3_row4_col15, #T_cf2b3_row4_col16, #T_cf2b3_row4_col17, #T_cf2b3_row5_col0, #T_cf2b3_row5_col5, #T_cf2b3_row5_col6, #T_cf2b3_row5_col7, #T_cf2b3_row5_col8, #T_cf2b3_row5_col9, #T_cf2b3_row5_col15, #T_cf2b3_row5_col16, #T_cf2b3_row5_col17, #T_cf2b3_row6_col0, #T_cf2b3_row6_col1, #T_cf2b3_row6_col2, #T_cf2b3_row6_col3, #T_cf2b3_row6_col4, #T_cf2b3_row6_col5, #T_cf2b3_row6_col6, #T_cf2b3_row6_col7, #T_cf2b3_row6_col8, #T_cf2b3_row6_col9, #T_cf2b3_row6_col14, #T_cf2b3_row6_col15, #T_cf2b3_row6_col16, #T_cf2b3_row6_col17, #T_cf2b3_row7_col0, #T_cf2b3_row7_col1, #T_cf2b3_row7_col2, #T_cf2b3_row7_col3, #T_cf2b3_row7_col4, #T_cf2b3_row7_col5, #T_cf2b3_row7_col6, #T_cf2b3_row7_col13, #T_cf2b3_row7_col14, #T_cf2b3_row7_col15, #T_cf2b3_row7_col16, #T_cf2b3_row7_col17, #T_cf2b3_row8_col0, #T_cf2b3_row8_col1, #T_cf2b3_row8_col2, #T_cf2b3_row8_col3, #T_cf2b3_row8_col4, #T_cf2b3_row8_col13, #T_cf2b3_row8_col14, #T_cf2b3_row8_col15, #T_cf2b3_row8_col16, #T_cf2b3_row8_col17, #T_cf2b3_row9_col0, #T_cf2b3_row9_col1, #T_cf2b3_row9_col2, #T_cf2b3_row9_col3, #T_cf2b3_row9_col4, #T_cf2b3_row9_col16, #T_cf2b3_row9_col17, #T_cf2b3_row10_col0, #T_cf2b3_row10_col1, #T_cf2b3_row10_col2, #T_cf2b3_row10_col3, #T_cf2b3_row10_col4, #T_cf2b3_row10_col5, #T_cf2b3_row10_col6, #T_cf2b3_row10_col17 {\n",
              "  font-size: 6pt;\n",
              "  background-color: #ffffff;\n",
              "  color: #000000;\n",
              "}\n",
              "#T_cf2b3_row1_col5 {\n",
              "  font-size: 6pt;\n",
              "  background-color: #efefef;\n",
              "  color: #000000;\n",
              "}\n",
              "#T_cf2b3_row1_col6, #T_cf2b3_row1_col13 {\n",
              "  font-size: 6pt;\n",
              "  background-color: #7c7c7c;\n",
              "  color: #f1f1f1;\n",
              "}\n",
              "#T_cf2b3_row1_col7 {\n",
              "  font-size: 6pt;\n",
              "  background-color: #4a4a4a;\n",
              "  color: #f1f1f1;\n",
              "}\n",
              "#T_cf2b3_row1_col8, #T_cf2b3_row1_col9, #T_cf2b3_row1_col10, #T_cf2b3_row2_col5, #T_cf2b3_row2_col6, #T_cf2b3_row2_col7, #T_cf2b3_row2_col11, #T_cf2b3_row2_col12, #T_cf2b3_row2_col13, #T_cf2b3_row3_col4, #T_cf2b3_row3_col12, #T_cf2b3_row3_col13, #T_cf2b3_row4_col1, #T_cf2b3_row4_col2, #T_cf2b3_row4_col3, #T_cf2b3_row4_col12, #T_cf2b3_row4_col13, #T_cf2b3_row5_col12, #T_cf2b3_row6_col11, #T_cf2b3_row9_col11, #T_cf2b3_row10_col11, #T_cf2b3_row10_col12, #T_cf2b3_row10_col13, #T_cf2b3_row10_col14, #T_cf2b3_row10_col15, #T_cf2b3_row10_col16 {\n",
              "  font-size: 6pt;\n",
              "  background-color: #000000;\n",
              "  color: #f1f1f1;\n",
              "}\n",
              "#T_cf2b3_row1_col11 {\n",
              "  font-size: 6pt;\n",
              "  background-color: #606060;\n",
              "  color: #f1f1f1;\n",
              "}\n",
              "#T_cf2b3_row1_col12 {\n",
              "  font-size: 6pt;\n",
              "  background-color: #4d4d4d;\n",
              "  color: #f1f1f1;\n",
              "}\n",
              "#T_cf2b3_row1_col14 {\n",
              "  font-size: 6pt;\n",
              "  background-color: #bbbbbb;\n",
              "  color: #000000;\n",
              "}\n",
              "#T_cf2b3_row2_col3 {\n",
              "  font-size: 6pt;\n",
              "  background-color: #e4e4e4;\n",
              "  color: #000000;\n",
              "}\n",
              "#T_cf2b3_row2_col4, #T_cf2b3_row8_col6 {\n",
              "  font-size: 6pt;\n",
              "  background-color: #6b6b6b;\n",
              "  color: #f1f1f1;\n",
              "}\n",
              "#T_cf2b3_row2_col8, #T_cf2b3_row2_col14, #T_cf2b3_row3_col14 {\n",
              "  font-size: 6pt;\n",
              "  background-color: #171717;\n",
              "  color: #f1f1f1;\n",
              "}\n",
              "#T_cf2b3_row2_col9, #T_cf2b3_row3_col11 {\n",
              "  font-size: 6pt;\n",
              "  background-color: #4b4b4b;\n",
              "  color: #f1f1f1;\n",
              "}\n",
              "#T_cf2b3_row2_col10, #T_cf2b3_row7_col10, #T_cf2b3_row8_col8, #T_cf2b3_row8_col10, #T_cf2b3_row9_col8, #T_cf2b3_row9_col10 {\n",
              "  font-size: 6pt;\n",
              "  background-color: #010101;\n",
              "  color: #f1f1f1;\n",
              "}\n",
              "#T_cf2b3_row3_col1 {\n",
              "  font-size: 6pt;\n",
              "  background-color: #272727;\n",
              "  color: #f1f1f1;\n",
              "}\n",
              "#T_cf2b3_row3_col2 {\n",
              "  font-size: 6pt;\n",
              "  background-color: #0a0a0a;\n",
              "  color: #f1f1f1;\n",
              "}\n",
              "#T_cf2b3_row3_col3 {\n",
              "  font-size: 6pt;\n",
              "  background-color: #050505;\n",
              "  color: #f1f1f1;\n",
              "}\n",
              "#T_cf2b3_row3_col5 {\n",
              "  font-size: 6pt;\n",
              "  background-color: #333333;\n",
              "  color: #f1f1f1;\n",
              "}\n",
              "#T_cf2b3_row3_col6 {\n",
              "  font-size: 6pt;\n",
              "  background-color: #e6e6e6;\n",
              "  color: #000000;\n",
              "}\n",
              "#T_cf2b3_row3_col7, #T_cf2b3_row3_col10 {\n",
              "  font-size: 6pt;\n",
              "  background-color: #fafafa;\n",
              "  color: #000000;\n",
              "}\n",
              "#T_cf2b3_row3_col8 {\n",
              "  font-size: 6pt;\n",
              "  background-color: #fbfbfb;\n",
              "  color: #000000;\n",
              "}\n",
              "#T_cf2b3_row3_col9 {\n",
              "  font-size: 6pt;\n",
              "  background-color: #fdfdfd;\n",
              "  color: #000000;\n",
              "}\n",
              "#T_cf2b3_row4_col4 {\n",
              "  font-size: 6pt;\n",
              "  background-color: #1b1b1b;\n",
              "  color: #f1f1f1;\n",
              "}\n",
              "#T_cf2b3_row4_col5 {\n",
              "  font-size: 6pt;\n",
              "  background-color: #e0e0e0;\n",
              "  color: #000000;\n",
              "}\n",
              "#T_cf2b3_row4_col11 {\n",
              "  font-size: 6pt;\n",
              "  background-color: #4e4e4e;\n",
              "  color: #f1f1f1;\n",
              "}\n",
              "#T_cf2b3_row4_col14 {\n",
              "  font-size: 6pt;\n",
              "  background-color: #767676;\n",
              "  color: #f1f1f1;\n",
              "}\n",
              "#T_cf2b3_row5_col1 {\n",
              "  font-size: 6pt;\n",
              "  background-color: #fcfcfc;\n",
              "  color: #000000;\n",
              "}\n",
              "#T_cf2b3_row5_col2, #T_cf2b3_row5_col3 {\n",
              "  font-size: 6pt;\n",
              "  background-color: #f6f6f6;\n",
              "  color: #000000;\n",
              "}\n",
              "#T_cf2b3_row5_col4, #T_cf2b3_row7_col7 {\n",
              "  font-size: 6pt;\n",
              "  background-color: #f8f8f8;\n",
              "  color: #000000;\n",
              "}\n",
              "#T_cf2b3_row5_col10, #T_cf2b3_row10_col7 {\n",
              "  font-size: 6pt;\n",
              "  background-color: #e8e8e8;\n",
              "  color: #000000;\n",
              "}\n",
              "#T_cf2b3_row5_col11 {\n",
              "  font-size: 6pt;\n",
              "  background-color: #222222;\n",
              "  color: #f1f1f1;\n",
              "}\n",
              "#T_cf2b3_row5_col13, #T_cf2b3_row6_col12 {\n",
              "  font-size: 6pt;\n",
              "  background-color: #090909;\n",
              "  color: #f1f1f1;\n",
              "}\n",
              "#T_cf2b3_row5_col14 {\n",
              "  font-size: 6pt;\n",
              "  background-color: #d0d0d0;\n",
              "  color: #000000;\n",
              "}\n",
              "#T_cf2b3_row6_col10, #T_cf2b3_row7_col11, #T_cf2b3_row9_col6 {\n",
              "  font-size: 6pt;\n",
              "  background-color: #060606;\n",
              "  color: #f1f1f1;\n",
              "}\n",
              "#T_cf2b3_row6_col13 {\n",
              "  font-size: 6pt;\n",
              "  background-color: #979797;\n",
              "  color: #f1f1f1;\n",
              "}\n",
              "#T_cf2b3_row7_col8 {\n",
              "  font-size: 6pt;\n",
              "  background-color: #b6b6b6;\n",
              "  color: #000000;\n",
              "}\n",
              "#T_cf2b3_row7_col9 {\n",
              "  font-size: 6pt;\n",
              "  background-color: #252525;\n",
              "  color: #f1f1f1;\n",
              "}\n",
              "#T_cf2b3_row7_col12 {\n",
              "  font-size: 6pt;\n",
              "  background-color: #999999;\n",
              "  color: #f1f1f1;\n",
              "}\n",
              "#T_cf2b3_row8_col5 {\n",
              "  font-size: 6pt;\n",
              "  background-color: #f9f9f9;\n",
              "  color: #000000;\n",
              "}\n",
              "#T_cf2b3_row8_col7 {\n",
              "  font-size: 6pt;\n",
              "  background-color: #101010;\n",
              "  color: #f1f1f1;\n",
              "}\n",
              "#T_cf2b3_row8_col9, #T_cf2b3_row9_col9 {\n",
              "  font-size: 6pt;\n",
              "  background-color: #020202;\n",
              "  color: #f1f1f1;\n",
              "}\n",
              "#T_cf2b3_row8_col11 {\n",
              "  font-size: 6pt;\n",
              "  background-color: #545454;\n",
              "  color: #f1f1f1;\n",
              "}\n",
              "#T_cf2b3_row8_col12 {\n",
              "  font-size: 6pt;\n",
              "  background-color: #f1f1f1;\n",
              "  color: #000000;\n",
              "}\n",
              "#T_cf2b3_row9_col5 {\n",
              "  font-size: 6pt;\n",
              "  background-color: #f7f7f7;\n",
              "  color: #000000;\n",
              "}\n",
              "#T_cf2b3_row9_col7 {\n",
              "  font-size: 6pt;\n",
              "  background-color: #030303;\n",
              "  color: #f1f1f1;\n",
              "}\n",
              "#T_cf2b3_row9_col12 {\n",
              "  font-size: 6pt;\n",
              "  background-color: #181818;\n",
              "  color: #f1f1f1;\n",
              "}\n",
              "#T_cf2b3_row9_col13 {\n",
              "  font-size: 6pt;\n",
              "  background-color: #303030;\n",
              "  color: #f1f1f1;\n",
              "}\n",
              "#T_cf2b3_row9_col14 {\n",
              "  font-size: 6pt;\n",
              "  background-color: #a9a9a9;\n",
              "  color: #f1f1f1;\n",
              "}\n",
              "#T_cf2b3_row9_col15 {\n",
              "  font-size: 6pt;\n",
              "  background-color: #fefefe;\n",
              "  color: #000000;\n",
              "}\n",
              "#T_cf2b3_row10_col8, #T_cf2b3_row10_col9 {\n",
              "  font-size: 6pt;\n",
              "  background-color: #bababa;\n",
              "  color: #000000;\n",
              "}\n",
              "#T_cf2b3_row10_col10 {\n",
              "  font-size: 6pt;\n",
              "  background-color: #393939;\n",
              "  color: #f1f1f1;\n",
              "}\n",
              "</style>\n",
              "<table id=\"T_cf2b3_\" class=\"dataframe\">\n",
              "  <thead>\n",
              "    <tr>\n",
              "      <th class=\"blank level0\" >&nbsp;</th>\n",
              "      <th class=\"col_heading level0 col0\" >0</th>\n",
              "      <th class=\"col_heading level0 col1\" >1</th>\n",
              "      <th class=\"col_heading level0 col2\" >2</th>\n",
              "      <th class=\"col_heading level0 col3\" >3</th>\n",
              "      <th class=\"col_heading level0 col4\" >4</th>\n",
              "      <th class=\"col_heading level0 col5\" >5</th>\n",
              "      <th class=\"col_heading level0 col6\" >6</th>\n",
              "      <th class=\"col_heading level0 col7\" >7</th>\n",
              "      <th class=\"col_heading level0 col8\" >8</th>\n",
              "      <th class=\"col_heading level0 col9\" >9</th>\n",
              "      <th class=\"col_heading level0 col10\" >10</th>\n",
              "      <th class=\"col_heading level0 col11\" >11</th>\n",
              "      <th class=\"col_heading level0 col12\" >12</th>\n",
              "      <th class=\"col_heading level0 col13\" >13</th>\n",
              "      <th class=\"col_heading level0 col14\" >14</th>\n",
              "      <th class=\"col_heading level0 col15\" >15</th>\n",
              "      <th class=\"col_heading level0 col16\" >16</th>\n",
              "      <th class=\"col_heading level0 col17\" >17</th>\n",
              "    </tr>\n",
              "  </thead>\n",
              "  <tbody>\n",
              "    <tr>\n",
              "      <th id=\"T_cf2b3_level0_row0\" class=\"row_heading level0 row0\" >0</th>\n",
              "      <td id=\"T_cf2b3_row0_col0\" class=\"data row0 col0\" >0</td>\n",
              "      <td id=\"T_cf2b3_row0_col1\" class=\"data row0 col1\" >0</td>\n",
              "      <td id=\"T_cf2b3_row0_col2\" class=\"data row0 col2\" >0</td>\n",
              "      <td id=\"T_cf2b3_row0_col3\" class=\"data row0 col3\" >0</td>\n",
              "      <td id=\"T_cf2b3_row0_col4\" class=\"data row0 col4\" >0</td>\n",
              "      <td id=\"T_cf2b3_row0_col5\" class=\"data row0 col5\" >0</td>\n",
              "      <td id=\"T_cf2b3_row0_col6\" class=\"data row0 col6\" >0</td>\n",
              "      <td id=\"T_cf2b3_row0_col7\" class=\"data row0 col7\" >0</td>\n",
              "      <td id=\"T_cf2b3_row0_col8\" class=\"data row0 col8\" >0</td>\n",
              "      <td id=\"T_cf2b3_row0_col9\" class=\"data row0 col9\" >0</td>\n",
              "      <td id=\"T_cf2b3_row0_col10\" class=\"data row0 col10\" >0</td>\n",
              "      <td id=\"T_cf2b3_row0_col11\" class=\"data row0 col11\" >0</td>\n",
              "      <td id=\"T_cf2b3_row0_col12\" class=\"data row0 col12\" >0</td>\n",
              "      <td id=\"T_cf2b3_row0_col13\" class=\"data row0 col13\" >0</td>\n",
              "      <td id=\"T_cf2b3_row0_col14\" class=\"data row0 col14\" >0</td>\n",
              "      <td id=\"T_cf2b3_row0_col15\" class=\"data row0 col15\" >0</td>\n",
              "      <td id=\"T_cf2b3_row0_col16\" class=\"data row0 col16\" >0</td>\n",
              "      <td id=\"T_cf2b3_row0_col17\" class=\"data row0 col17\" >0</td>\n",
              "    </tr>\n",
              "    <tr>\n",
              "      <th id=\"T_cf2b3_level0_row1\" class=\"row_heading level0 row1\" >1</th>\n",
              "      <td id=\"T_cf2b3_row1_col0\" class=\"data row1 col0\" >0</td>\n",
              "      <td id=\"T_cf2b3_row1_col1\" class=\"data row1 col1\" >0</td>\n",
              "      <td id=\"T_cf2b3_row1_col2\" class=\"data row1 col2\" >0</td>\n",
              "      <td id=\"T_cf2b3_row1_col3\" class=\"data row1 col3\" >0</td>\n",
              "      <td id=\"T_cf2b3_row1_col4\" class=\"data row1 col4\" >0</td>\n",
              "      <td id=\"T_cf2b3_row1_col5\" class=\"data row1 col5\" >29</td>\n",
              "      <td id=\"T_cf2b3_row1_col6\" class=\"data row1 col6\" >150</td>\n",
              "      <td id=\"T_cf2b3_row1_col7\" class=\"data row1 col7\" >195</td>\n",
              "      <td id=\"T_cf2b3_row1_col8\" class=\"data row1 col8\" >254</td>\n",
              "      <td id=\"T_cf2b3_row1_col9\" class=\"data row1 col9\" >255</td>\n",
              "      <td id=\"T_cf2b3_row1_col10\" class=\"data row1 col10\" >254</td>\n",
              "      <td id=\"T_cf2b3_row1_col11\" class=\"data row1 col11\" >176</td>\n",
              "      <td id=\"T_cf2b3_row1_col12\" class=\"data row1 col12\" >193</td>\n",
              "      <td id=\"T_cf2b3_row1_col13\" class=\"data row1 col13\" >150</td>\n",
              "      <td id=\"T_cf2b3_row1_col14\" class=\"data row1 col14\" >96</td>\n",
              "      <td id=\"T_cf2b3_row1_col15\" class=\"data row1 col15\" >0</td>\n",
              "      <td id=\"T_cf2b3_row1_col16\" class=\"data row1 col16\" >0</td>\n",
              "      <td id=\"T_cf2b3_row1_col17\" class=\"data row1 col17\" >0</td>\n",
              "    </tr>\n",
              "    <tr>\n",
              "      <th id=\"T_cf2b3_level0_row2\" class=\"row_heading level0 row2\" >2</th>\n",
              "      <td id=\"T_cf2b3_row2_col0\" class=\"data row2 col0\" >0</td>\n",
              "      <td id=\"T_cf2b3_row2_col1\" class=\"data row2 col1\" >0</td>\n",
              "      <td id=\"T_cf2b3_row2_col2\" class=\"data row2 col2\" >0</td>\n",
              "      <td id=\"T_cf2b3_row2_col3\" class=\"data row2 col3\" >48</td>\n",
              "      <td id=\"T_cf2b3_row2_col4\" class=\"data row2 col4\" >166</td>\n",
              "      <td id=\"T_cf2b3_row2_col5\" class=\"data row2 col5\" >224</td>\n",
              "      <td id=\"T_cf2b3_row2_col6\" class=\"data row2 col6\" >253</td>\n",
              "      <td id=\"T_cf2b3_row2_col7\" class=\"data row2 col7\" >253</td>\n",
              "      <td id=\"T_cf2b3_row2_col8\" class=\"data row2 col8\" >234</td>\n",
              "      <td id=\"T_cf2b3_row2_col9\" class=\"data row2 col9\" >196</td>\n",
              "      <td id=\"T_cf2b3_row2_col10\" class=\"data row2 col10\" >253</td>\n",
              "      <td id=\"T_cf2b3_row2_col11\" class=\"data row2 col11\" >253</td>\n",
              "      <td id=\"T_cf2b3_row2_col12\" class=\"data row2 col12\" >253</td>\n",
              "      <td id=\"T_cf2b3_row2_col13\" class=\"data row2 col13\" >253</td>\n",
              "      <td id=\"T_cf2b3_row2_col14\" class=\"data row2 col14\" >233</td>\n",
              "      <td id=\"T_cf2b3_row2_col15\" class=\"data row2 col15\" >0</td>\n",
              "      <td id=\"T_cf2b3_row2_col16\" class=\"data row2 col16\" >0</td>\n",
              "      <td id=\"T_cf2b3_row2_col17\" class=\"data row2 col17\" >0</td>\n",
              "    </tr>\n",
              "    <tr>\n",
              "      <th id=\"T_cf2b3_level0_row3\" class=\"row_heading level0 row3\" >3</th>\n",
              "      <td id=\"T_cf2b3_row3_col0\" class=\"data row3 col0\" >0</td>\n",
              "      <td id=\"T_cf2b3_row3_col1\" class=\"data row3 col1\" >93</td>\n",
              "      <td id=\"T_cf2b3_row3_col2\" class=\"data row3 col2\" >244</td>\n",
              "      <td id=\"T_cf2b3_row3_col3\" class=\"data row3 col3\" >249</td>\n",
              "      <td id=\"T_cf2b3_row3_col4\" class=\"data row3 col4\" >253</td>\n",
              "      <td id=\"T_cf2b3_row3_col5\" class=\"data row3 col5\" >187</td>\n",
              "      <td id=\"T_cf2b3_row3_col6\" class=\"data row3 col6\" >46</td>\n",
              "      <td id=\"T_cf2b3_row3_col7\" class=\"data row3 col7\" >10</td>\n",
              "      <td id=\"T_cf2b3_row3_col8\" class=\"data row3 col8\" >8</td>\n",
              "      <td id=\"T_cf2b3_row3_col9\" class=\"data row3 col9\" >4</td>\n",
              "      <td id=\"T_cf2b3_row3_col10\" class=\"data row3 col10\" >10</td>\n",
              "      <td id=\"T_cf2b3_row3_col11\" class=\"data row3 col11\" >194</td>\n",
              "      <td id=\"T_cf2b3_row3_col12\" class=\"data row3 col12\" >253</td>\n",
              "      <td id=\"T_cf2b3_row3_col13\" class=\"data row3 col13\" >253</td>\n",
              "      <td id=\"T_cf2b3_row3_col14\" class=\"data row3 col14\" >233</td>\n",
              "      <td id=\"T_cf2b3_row3_col15\" class=\"data row3 col15\" >0</td>\n",
              "      <td id=\"T_cf2b3_row3_col16\" class=\"data row3 col16\" >0</td>\n",
              "      <td id=\"T_cf2b3_row3_col17\" class=\"data row3 col17\" >0</td>\n",
              "    </tr>\n",
              "    <tr>\n",
              "      <th id=\"T_cf2b3_level0_row4\" class=\"row_heading level0 row4\" >4</th>\n",
              "      <td id=\"T_cf2b3_row4_col0\" class=\"data row4 col0\" >0</td>\n",
              "      <td id=\"T_cf2b3_row4_col1\" class=\"data row4 col1\" >107</td>\n",
              "      <td id=\"T_cf2b3_row4_col2\" class=\"data row4 col2\" >253</td>\n",
              "      <td id=\"T_cf2b3_row4_col3\" class=\"data row4 col3\" >253</td>\n",
              "      <td id=\"T_cf2b3_row4_col4\" class=\"data row4 col4\" >230</td>\n",
              "      <td id=\"T_cf2b3_row4_col5\" class=\"data row4 col5\" >48</td>\n",
              "      <td id=\"T_cf2b3_row4_col6\" class=\"data row4 col6\" >0</td>\n",
              "      <td id=\"T_cf2b3_row4_col7\" class=\"data row4 col7\" >0</td>\n",
              "      <td id=\"T_cf2b3_row4_col8\" class=\"data row4 col8\" >0</td>\n",
              "      <td id=\"T_cf2b3_row4_col9\" class=\"data row4 col9\" >0</td>\n",
              "      <td id=\"T_cf2b3_row4_col10\" class=\"data row4 col10\" >0</td>\n",
              "      <td id=\"T_cf2b3_row4_col11\" class=\"data row4 col11\" >192</td>\n",
              "      <td id=\"T_cf2b3_row4_col12\" class=\"data row4 col12\" >253</td>\n",
              "      <td id=\"T_cf2b3_row4_col13\" class=\"data row4 col13\" >253</td>\n",
              "      <td id=\"T_cf2b3_row4_col14\" class=\"data row4 col14\" >156</td>\n",
              "      <td id=\"T_cf2b3_row4_col15\" class=\"data row4 col15\" >0</td>\n",
              "      <td id=\"T_cf2b3_row4_col16\" class=\"data row4 col16\" >0</td>\n",
              "      <td id=\"T_cf2b3_row4_col17\" class=\"data row4 col17\" >0</td>\n",
              "    </tr>\n",
              "    <tr>\n",
              "      <th id=\"T_cf2b3_level0_row5\" class=\"row_heading level0 row5\" >5</th>\n",
              "      <td id=\"T_cf2b3_row5_col0\" class=\"data row5 col0\" >0</td>\n",
              "      <td id=\"T_cf2b3_row5_col1\" class=\"data row5 col1\" >3</td>\n",
              "      <td id=\"T_cf2b3_row5_col2\" class=\"data row5 col2\" >20</td>\n",
              "      <td id=\"T_cf2b3_row5_col3\" class=\"data row5 col3\" >20</td>\n",
              "      <td id=\"T_cf2b3_row5_col4\" class=\"data row5 col4\" >15</td>\n",
              "      <td id=\"T_cf2b3_row5_col5\" class=\"data row5 col5\" >0</td>\n",
              "      <td id=\"T_cf2b3_row5_col6\" class=\"data row5 col6\" >0</td>\n",
              "      <td id=\"T_cf2b3_row5_col7\" class=\"data row5 col7\" >0</td>\n",
              "      <td id=\"T_cf2b3_row5_col8\" class=\"data row5 col8\" >0</td>\n",
              "      <td id=\"T_cf2b3_row5_col9\" class=\"data row5 col9\" >0</td>\n",
              "      <td id=\"T_cf2b3_row5_col10\" class=\"data row5 col10\" >43</td>\n",
              "      <td id=\"T_cf2b3_row5_col11\" class=\"data row5 col11\" >224</td>\n",
              "      <td id=\"T_cf2b3_row5_col12\" class=\"data row5 col12\" >253</td>\n",
              "      <td id=\"T_cf2b3_row5_col13\" class=\"data row5 col13\" >245</td>\n",
              "      <td id=\"T_cf2b3_row5_col14\" class=\"data row5 col14\" >74</td>\n",
              "      <td id=\"T_cf2b3_row5_col15\" class=\"data row5 col15\" >0</td>\n",
              "      <td id=\"T_cf2b3_row5_col16\" class=\"data row5 col16\" >0</td>\n",
              "      <td id=\"T_cf2b3_row5_col17\" class=\"data row5 col17\" >0</td>\n",
              "    </tr>\n",
              "    <tr>\n",
              "      <th id=\"T_cf2b3_level0_row6\" class=\"row_heading level0 row6\" >6</th>\n",
              "      <td id=\"T_cf2b3_row6_col0\" class=\"data row6 col0\" >0</td>\n",
              "      <td id=\"T_cf2b3_row6_col1\" class=\"data row6 col1\" >0</td>\n",
              "      <td id=\"T_cf2b3_row6_col2\" class=\"data row6 col2\" >0</td>\n",
              "      <td id=\"T_cf2b3_row6_col3\" class=\"data row6 col3\" >0</td>\n",
              "      <td id=\"T_cf2b3_row6_col4\" class=\"data row6 col4\" >0</td>\n",
              "      <td id=\"T_cf2b3_row6_col5\" class=\"data row6 col5\" >0</td>\n",
              "      <td id=\"T_cf2b3_row6_col6\" class=\"data row6 col6\" >0</td>\n",
              "      <td id=\"T_cf2b3_row6_col7\" class=\"data row6 col7\" >0</td>\n",
              "      <td id=\"T_cf2b3_row6_col8\" class=\"data row6 col8\" >0</td>\n",
              "      <td id=\"T_cf2b3_row6_col9\" class=\"data row6 col9\" >0</td>\n",
              "      <td id=\"T_cf2b3_row6_col10\" class=\"data row6 col10\" >249</td>\n",
              "      <td id=\"T_cf2b3_row6_col11\" class=\"data row6 col11\" >253</td>\n",
              "      <td id=\"T_cf2b3_row6_col12\" class=\"data row6 col12\" >245</td>\n",
              "      <td id=\"T_cf2b3_row6_col13\" class=\"data row6 col13\" >126</td>\n",
              "      <td id=\"T_cf2b3_row6_col14\" class=\"data row6 col14\" >0</td>\n",
              "      <td id=\"T_cf2b3_row6_col15\" class=\"data row6 col15\" >0</td>\n",
              "      <td id=\"T_cf2b3_row6_col16\" class=\"data row6 col16\" >0</td>\n",
              "      <td id=\"T_cf2b3_row6_col17\" class=\"data row6 col17\" >0</td>\n",
              "    </tr>\n",
              "    <tr>\n",
              "      <th id=\"T_cf2b3_level0_row7\" class=\"row_heading level0 row7\" >7</th>\n",
              "      <td id=\"T_cf2b3_row7_col0\" class=\"data row7 col0\" >0</td>\n",
              "      <td id=\"T_cf2b3_row7_col1\" class=\"data row7 col1\" >0</td>\n",
              "      <td id=\"T_cf2b3_row7_col2\" class=\"data row7 col2\" >0</td>\n",
              "      <td id=\"T_cf2b3_row7_col3\" class=\"data row7 col3\" >0</td>\n",
              "      <td id=\"T_cf2b3_row7_col4\" class=\"data row7 col4\" >0</td>\n",
              "      <td id=\"T_cf2b3_row7_col5\" class=\"data row7 col5\" >0</td>\n",
              "      <td id=\"T_cf2b3_row7_col6\" class=\"data row7 col6\" >0</td>\n",
              "      <td id=\"T_cf2b3_row7_col7\" class=\"data row7 col7\" >14</td>\n",
              "      <td id=\"T_cf2b3_row7_col8\" class=\"data row7 col8\" >101</td>\n",
              "      <td id=\"T_cf2b3_row7_col9\" class=\"data row7 col9\" >223</td>\n",
              "      <td id=\"T_cf2b3_row7_col10\" class=\"data row7 col10\" >253</td>\n",
              "      <td id=\"T_cf2b3_row7_col11\" class=\"data row7 col11\" >248</td>\n",
              "      <td id=\"T_cf2b3_row7_col12\" class=\"data row7 col12\" >124</td>\n",
              "      <td id=\"T_cf2b3_row7_col13\" class=\"data row7 col13\" >0</td>\n",
              "      <td id=\"T_cf2b3_row7_col14\" class=\"data row7 col14\" >0</td>\n",
              "      <td id=\"T_cf2b3_row7_col15\" class=\"data row7 col15\" >0</td>\n",
              "      <td id=\"T_cf2b3_row7_col16\" class=\"data row7 col16\" >0</td>\n",
              "      <td id=\"T_cf2b3_row7_col17\" class=\"data row7 col17\" >0</td>\n",
              "    </tr>\n",
              "    <tr>\n",
              "      <th id=\"T_cf2b3_level0_row8\" class=\"row_heading level0 row8\" >8</th>\n",
              "      <td id=\"T_cf2b3_row8_col0\" class=\"data row8 col0\" >0</td>\n",
              "      <td id=\"T_cf2b3_row8_col1\" class=\"data row8 col1\" >0</td>\n",
              "      <td id=\"T_cf2b3_row8_col2\" class=\"data row8 col2\" >0</td>\n",
              "      <td id=\"T_cf2b3_row8_col3\" class=\"data row8 col3\" >0</td>\n",
              "      <td id=\"T_cf2b3_row8_col4\" class=\"data row8 col4\" >0</td>\n",
              "      <td id=\"T_cf2b3_row8_col5\" class=\"data row8 col5\" >11</td>\n",
              "      <td id=\"T_cf2b3_row8_col6\" class=\"data row8 col6\" >166</td>\n",
              "      <td id=\"T_cf2b3_row8_col7\" class=\"data row8 col7\" >239</td>\n",
              "      <td id=\"T_cf2b3_row8_col8\" class=\"data row8 col8\" >253</td>\n",
              "      <td id=\"T_cf2b3_row8_col9\" class=\"data row8 col9\" >253</td>\n",
              "      <td id=\"T_cf2b3_row8_col10\" class=\"data row8 col10\" >253</td>\n",
              "      <td id=\"T_cf2b3_row8_col11\" class=\"data row8 col11\" >187</td>\n",
              "      <td id=\"T_cf2b3_row8_col12\" class=\"data row8 col12\" >30</td>\n",
              "      <td id=\"T_cf2b3_row8_col13\" class=\"data row8 col13\" >0</td>\n",
              "      <td id=\"T_cf2b3_row8_col14\" class=\"data row8 col14\" >0</td>\n",
              "      <td id=\"T_cf2b3_row8_col15\" class=\"data row8 col15\" >0</td>\n",
              "      <td id=\"T_cf2b3_row8_col16\" class=\"data row8 col16\" >0</td>\n",
              "      <td id=\"T_cf2b3_row8_col17\" class=\"data row8 col17\" >0</td>\n",
              "    </tr>\n",
              "    <tr>\n",
              "      <th id=\"T_cf2b3_level0_row9\" class=\"row_heading level0 row9\" >9</th>\n",
              "      <td id=\"T_cf2b3_row9_col0\" class=\"data row9 col0\" >0</td>\n",
              "      <td id=\"T_cf2b3_row9_col1\" class=\"data row9 col1\" >0</td>\n",
              "      <td id=\"T_cf2b3_row9_col2\" class=\"data row9 col2\" >0</td>\n",
              "      <td id=\"T_cf2b3_row9_col3\" class=\"data row9 col3\" >0</td>\n",
              "      <td id=\"T_cf2b3_row9_col4\" class=\"data row9 col4\" >0</td>\n",
              "      <td id=\"T_cf2b3_row9_col5\" class=\"data row9 col5\" >16</td>\n",
              "      <td id=\"T_cf2b3_row9_col6\" class=\"data row9 col6\" >248</td>\n",
              "      <td id=\"T_cf2b3_row9_col7\" class=\"data row9 col7\" >250</td>\n",
              "      <td id=\"T_cf2b3_row9_col8\" class=\"data row9 col8\" >253</td>\n",
              "      <td id=\"T_cf2b3_row9_col9\" class=\"data row9 col9\" >253</td>\n",
              "      <td id=\"T_cf2b3_row9_col10\" class=\"data row9 col10\" >253</td>\n",
              "      <td id=\"T_cf2b3_row9_col11\" class=\"data row9 col11\" >253</td>\n",
              "      <td id=\"T_cf2b3_row9_col12\" class=\"data row9 col12\" >232</td>\n",
              "      <td id=\"T_cf2b3_row9_col13\" class=\"data row9 col13\" >213</td>\n",
              "      <td id=\"T_cf2b3_row9_col14\" class=\"data row9 col14\" >111</td>\n",
              "      <td id=\"T_cf2b3_row9_col15\" class=\"data row9 col15\" >2</td>\n",
              "      <td id=\"T_cf2b3_row9_col16\" class=\"data row9 col16\" >0</td>\n",
              "      <td id=\"T_cf2b3_row9_col17\" class=\"data row9 col17\" >0</td>\n",
              "    </tr>\n",
              "    <tr>\n",
              "      <th id=\"T_cf2b3_level0_row10\" class=\"row_heading level0 row10\" >10</th>\n",
              "      <td id=\"T_cf2b3_row10_col0\" class=\"data row10 col0\" >0</td>\n",
              "      <td id=\"T_cf2b3_row10_col1\" class=\"data row10 col1\" >0</td>\n",
              "      <td id=\"T_cf2b3_row10_col2\" class=\"data row10 col2\" >0</td>\n",
              "      <td id=\"T_cf2b3_row10_col3\" class=\"data row10 col3\" >0</td>\n",
              "      <td id=\"T_cf2b3_row10_col4\" class=\"data row10 col4\" >0</td>\n",
              "      <td id=\"T_cf2b3_row10_col5\" class=\"data row10 col5\" >0</td>\n",
              "      <td id=\"T_cf2b3_row10_col6\" class=\"data row10 col6\" >0</td>\n",
              "      <td id=\"T_cf2b3_row10_col7\" class=\"data row10 col7\" >43</td>\n",
              "      <td id=\"T_cf2b3_row10_col8\" class=\"data row10 col8\" >98</td>\n",
              "      <td id=\"T_cf2b3_row10_col9\" class=\"data row10 col9\" >98</td>\n",
              "      <td id=\"T_cf2b3_row10_col10\" class=\"data row10 col10\" >208</td>\n",
              "      <td id=\"T_cf2b3_row10_col11\" class=\"data row10 col11\" >253</td>\n",
              "      <td id=\"T_cf2b3_row10_col12\" class=\"data row10 col12\" >253</td>\n",
              "      <td id=\"T_cf2b3_row10_col13\" class=\"data row10 col13\" >253</td>\n",
              "      <td id=\"T_cf2b3_row10_col14\" class=\"data row10 col14\" >253</td>\n",
              "      <td id=\"T_cf2b3_row10_col15\" class=\"data row10 col15\" >187</td>\n",
              "      <td id=\"T_cf2b3_row10_col16\" class=\"data row10 col16\" >22</td>\n",
              "      <td id=\"T_cf2b3_row10_col17\" class=\"data row10 col17\" >0</td>\n",
              "    </tr>\n",
              "  </tbody>\n",
              "</table>\n"
            ]
          },
          "metadata": {},
          "execution_count": 268
        }
      ],
      "source": [
        "im3_t = tensor(im3)\n",
        "df = pd.DataFrame(im3_t[4:15,4:22])\n",
        "df.style.set_properties(**{'font-size':'6pt'}).background_gradient('Greys')"
      ]
    },
    {
      "cell_type": "markdown",
      "metadata": {
        "id": "ECZufGaHse3t"
      },
      "source": [
        "## First Try: Pixel Similarity"
      ]
    },
    {
      "cell_type": "code",
      "execution_count": 269,
      "metadata": {
        "id": "35QJR1Cjse3u",
        "outputId": "a9ecca67-1786-4c91-ad63-c83e3e054dd4",
        "colab": {
          "base_uri": "https://localhost:8080/"
        }
      },
      "outputs": [
        {
          "output_type": "execute_result",
          "data": {
            "text/plain": [
              "(6131, 6265)"
            ]
          },
          "metadata": {},
          "execution_count": 269
        }
      ],
      "source": [
        "seven_tensors = [tensor(Image.open(o)) for o in sevens]\n",
        "three_tensors = [tensor(Image.open(o)) for o in threes]\n",
        "len(three_tensors),len(seven_tensors)"
      ]
    },
    {
      "cell_type": "markdown",
      "metadata": {
        "id": "O3UBFVSise3u"
      },
      "source": [
        "\n",
        "> note: List Comprehensions: List and dictionary comprehensions are a wonderful feature of Python. Many Python programmers use them every day, including the authors of this book—they are part of \"idiomatic Python.\" But programmers coming from other languages may have never seen them before. There are a lot of great tutorials just a web search away, so we won't spend a long time discussing them now. Here is a quick explanation and example to get you started. A list comprehension looks like this: `new_list = [f(o) for o in a_list if o>0]`. This will return every element of `a_list` that is greater than 0, after passing it to the function `f`. There are three parts here: the collection you are iterating over (`a_list`), an optional filter (`if o>0`), and something to do to each element (`f(o)`). It's not only shorter to write but way faster than the alternative ways of creating the same list with a loop."
      ]
    },
    {
      "cell_type": "code",
      "execution_count": 270,
      "metadata": {
        "id": "wCFHCWobse3w",
        "outputId": "fd3684a3-5cc3-420a-9598-8a98d20e55e6",
        "colab": {
          "base_uri": "https://localhost:8080/",
          "height": 85
        }
      },
      "outputs": [
        {
          "output_type": "display_data",
          "data": {
            "text/plain": [
              "<Figure size 72x72 with 1 Axes>"
            ],
            "image/png": "[encoded data removed]"
          },
          "metadata": {
            "needs_background": "light"
          }
        }
      ],
      "source": [
        "show_image(three_tensors[1]); # show_image is from PIL."
      ]
    },
    {
      "cell_type": "code",
      "execution_count": 271,
      "metadata": {
        "id": "HRErms_Ase3x",
        "outputId": "15f3ca63-8ec0-4dd0-e065-c497589e113d",
        "colab": {
          "base_uri": "https://localhost:8080/"
        }
      },
      "outputs": [
        {
          "output_type": "execute_result",
          "data": {
            "text/plain": [
              "torch.Size([6131, 28, 28])"
            ]
          },
          "metadata": {},
          "execution_count": 271
        }
      ],
      "source": [
        "# pixel similarity => for every pixel position, average over all the images\n",
        "# of the intensity of that pixel.\n",
        "# combine images to a single 3d tensor, or a rank-3 tensor using stack.\n",
        "stacked_sevens = torch.stack(seven_tensors).float()/255 \n",
        "#casting to float to take averages.\n",
        "# dividing by 255 to convert from 0-255 to 0-1.\n",
        "stacked_threes = torch.stack(three_tensors).float()/255\n",
        "stacked_threes.shape"
      ]
    },
    {
      "cell_type": "code",
      "execution_count": 272,
      "metadata": {
        "id": "0FANVShJse3z",
        "outputId": "389b1835-8041-430b-85fc-d61e42b835e4",
        "colab": {
          "base_uri": "https://localhost:8080/"
        }
      },
      "outputs": [
        {
          "output_type": "execute_result",
          "data": {
            "text/plain": [
              "3"
            ]
          },
          "metadata": {},
          "execution_count": 272
        }
      ],
      "source": [
        "len(stacked_threes.shape) #length of a tensor's shape is its rank.\n",
        "# => 3 \n",
        "# _rank_ is the number of axes or dimensions in a tensor;\n",
        "# _shape_ is the size of each axis of a tensor."
      ]
    },
    {
      "cell_type": "code",
      "execution_count": 273,
      "metadata": {
        "id": "7-k4sI-use34",
        "outputId": "f07a3152-829f-40a7-eb72-ac7a1238d14c",
        "colab": {
          "base_uri": "https://localhost:8080/"
        }
      },
      "outputs": [
        {
          "output_type": "execute_result",
          "data": {
            "text/plain": [
              "3"
            ]
          },
          "metadata": {},
          "execution_count": 273
        }
      ],
      "source": [
        "# we can also use ndim to find tensor's rank.\n",
        "stacked_threes.ndim"
      ]
    },
    {
      "cell_type": "markdown",
      "metadata": {
        "id": "3b0ybZLXse38"
      },
      "source": [
        "Finally, we can compute what the ideal 3 looks like. We calculate the mean of all the image tensors by taking the mean along dimension 0 of our stacked, rank-3 tensor. This is the dimension that indexes over all the images.\n",
        "\n",
        "In other words, for every pixel position, this will compute the average of that pixel over all images. The result will be one value for every pixel position, or a single image. Here it is:"
      ]
    },
    {
      "cell_type": "code",
      "execution_count": 274,
      "metadata": {
        "id": "74_eqPF1se3-",
        "outputId": "9afe8d94-3540-4a75-f433-2ae23a83894d",
        "colab": {
          "base_uri": "https://localhost:8080/",
          "height": 85
        }
      },
      "outputs": [
        {
          "output_type": "display_data",
          "data": {
            "text/plain": [
              "<Figure size 72x72 with 1 Axes>"
            ],
            "image/png": "[encoded data removed]"
          },
          "metadata": {
            "needs_background": "light"
          }
        }
      ],
      "source": [
        "mean3 = stacked_threes.mean(0)\n",
        "# mean(0) => [6131, 28, 28], mean using first index to iterate.\n",
        "show_image(mean3);"
      ]
    },
    {
      "cell_type": "code",
      "execution_count": 275,
      "metadata": {
        "id": "0mEHKYP5se4A",
        "outputId": "94110315-28ad-4b59-d3cc-85d699b3e5a8",
        "colab": {
          "base_uri": "https://localhost:8080/",
          "height": 85
        }
      },
      "outputs": [
        {
          "output_type": "display_data",
          "data": {
            "text/plain": [
              "<Figure size 72x72 with 1 Axes>"
            ],
            "image/png": "[encoded data removed]"
          },
          "metadata": {
            "needs_background": "light"
          }
        }
      ],
      "source": [
        "mean7 = stacked_sevens.mean(0)\n",
        "show_image(mean7);"
      ]
    },
    {
      "cell_type": "code",
      "execution_count": 276,
      "metadata": {
        "id": "wrzj3bwKse4A",
        "outputId": "6b434745-5e5b-42a1-e33f-40d3ec9f0b13",
        "colab": {
          "base_uri": "https://localhost:8080/",
          "height": 85
        }
      },
      "outputs": [
        {
          "output_type": "display_data",
          "data": {
            "text/plain": [
              "<Figure size 72x72 with 1 Axes>"
            ],
            "image/png": "[encoded data removed]"
          },
          "metadata": {
            "needs_background": "light"
          }
        }
      ],
      "source": [
        "a_3 = stacked_threes[1]\n",
        "show_image(a_3);\n",
        "#take a random 3 and measure its *distance* from our ideal digits."
      ]
    },
    {
      "cell_type": "markdown",
      "metadata": {
        "id": "Cfos_3b3se4B"
      },
      "source": [
        "using L1 norm or mean absolute difference\n",
        "using L2 norm or root mean squared error (RMSE)"
      ]
    },
    {
      "cell_type": "code",
      "execution_count": 277,
      "metadata": {
        "id": "SQhyFyPMse4C",
        "outputId": "b83f4167-3090-4a19-e093-6f7a01ea276e",
        "colab": {
          "base_uri": "https://localhost:8080/"
        }
      },
      "outputs": [
        {
          "output_type": "execute_result",
          "data": {
            "text/plain": [
              "(tensor(0.1114), tensor(0.2021))"
            ]
          },
          "metadata": {},
          "execution_count": 277
        }
      ],
      "source": [
        "dist_3_abs = (a_3 - mean3).abs().mean()\n",
        "dist_3_sqr = ((a_3 - mean3)**2).mean().sqrt()\n",
        "dist_3_abs,dist_3_sqr"
      ]
    },
    {
      "cell_type": "code",
      "execution_count": 278,
      "metadata": {
        "id": "6CckAjyEse4D",
        "outputId": "e88ff645-9ee7-4da5-910e-a13d383f8279",
        "colab": {
          "base_uri": "https://localhost:8080/"
        }
      },
      "outputs": [
        {
          "output_type": "execute_result",
          "data": {
            "text/plain": [
              "(tensor(0.1586), tensor(0.3021))"
            ]
          },
          "metadata": {},
          "execution_count": 278
        }
      ],
      "source": [
        "dist_7_abs = (a_3 - mean7).abs().mean()\n",
        "dist_7_sqr = ((a_3 - mean7)**2).mean().sqrt()\n",
        "dist_7_abs,dist_7_sqr"
      ]
    },
    {
      "cell_type": "markdown",
      "metadata": {
        "id": "-4hsJ8P1se4E"
      },
      "source": [
        "In both cases, the distance between our 3 and the \"ideal\" 3 is less than the distance to the ideal 7. So our simple model will give the right prediction in this case."
      ]
    },
    {
      "cell_type": "markdown",
      "metadata": {
        "id": "XgMJPcQDse4F"
      },
      "source": [
        "PyTorch already provides both of these as *loss functions*. You'll find these inside `torch.nn.functional`, which the PyTorch team recommends importing as `F` (and is available by default under that name in fastai):"
      ]
    },
    {
      "cell_type": "code",
      "execution_count": 279,
      "metadata": {
        "id": "05Im3wjFse4H",
        "outputId": "12580330-495d-4ce8-ec71-70e83188c621",
        "colab": {
          "base_uri": "https://localhost:8080/"
        }
      },
      "outputs": [
        {
          "output_type": "execute_result",
          "data": {
            "text/plain": [
              "(tensor(0.1586), tensor(0.3021))"
            ]
          },
          "metadata": {},
          "execution_count": 279
        }
      ],
      "source": [
        "F.l1_loss(a_3.float(),mean7), F.mse_loss(a_3,mean7).sqrt()"
      ]
    },
    {
      "cell_type": "markdown",
      "metadata": {
        "id": "VHrSIq6Kse4S"
      },
      "source": [
        "### NumPy Arrays and PyTorch Tensors"
      ]
    },
    {
      "cell_type": "markdown",
      "metadata": {
        "id": "c7nUT6edse4n"
      },
      "source": [
        "**NumPy arrays and PyTorch tensors can finish computations many thousands of times faster than using pure Python.**<br>\n",
        "A PyTorch tensor is nearly the same thing as a NumPy array, but with an additional restriction that unlocks some additional capabilities. It's also a multidimensional table of data, with all items of the same type. However, the tensor has to use a single basic numeric type for all components. also, a PyTorch sensor cannot be jagged.\n",
        "\n",
        "PyTorch also can run on GPU and automatically calculate derivatives of these operations. "
      ]
    },
    {
      "cell_type": "markdown",
      "metadata": {
        "id": "K8TbLVbyse4r"
      },
      "source": [
        "a few commands to learn how to work with array/tensor APIs."
      ]
    },
    {
      "cell_type": "code",
      "execution_count": 280,
      "metadata": {
        "id": "Rjkp0Wzise4t"
      },
      "outputs": [],
      "source": [
        "data = [[1,2,3],[4,5,6]]\n",
        "arr = array (data)\n",
        "tns = tensor(data)"
      ]
    },
    {
      "cell_type": "code",
      "execution_count": 281,
      "metadata": {
        "id": "Qm7OP4Jose4u",
        "outputId": "002579a1-3876-43a2-d954-275196aa2d6a",
        "colab": {
          "base_uri": "https://localhost:8080/"
        }
      },
      "outputs": [
        {
          "output_type": "execute_result",
          "data": {
            "text/plain": [
              "array([[1, 2, 3],\n",
              "       [4, 5, 6]])"
            ]
          },
          "metadata": {},
          "execution_count": 281
        }
      ],
      "source": [
        "arr  # numpy"
      ]
    },
    {
      "cell_type": "code",
      "execution_count": 282,
      "metadata": {
        "id": "x4PDtERdse4u",
        "outputId": "82ae5ebe-e89b-464e-9b47-f074c1527b55",
        "colab": {
          "base_uri": "https://localhost:8080/"
        }
      },
      "outputs": [
        {
          "output_type": "execute_result",
          "data": {
            "text/plain": [
              "tensor([[1, 2, 3],\n",
              "        [4, 5, 6]])"
            ]
          },
          "metadata": {},
          "execution_count": 282
        }
      ],
      "source": [
        "tns  # pytorch"
      ]
    },
    {
      "cell_type": "code",
      "execution_count": 283,
      "metadata": {
        "id": "_Ru9RBYqse4v",
        "outputId": "8a06ec33-3f5e-4ffb-80c5-0cb4c0e6755f",
        "colab": {
          "base_uri": "https://localhost:8080/"
        }
      },
      "outputs": [
        {
          "output_type": "execute_result",
          "data": {
            "text/plain": [
              "tensor([4, 5, 6])"
            ]
          },
          "metadata": {},
          "execution_count": 283
        }
      ],
      "source": [
        "tns[1] #second row."
      ]
    },
    {
      "cell_type": "code",
      "execution_count": 284,
      "metadata": {
        "id": "ew_cx-Tpse4w",
        "outputId": "01f56aef-3a86-49b1-e910-748e2b4550f5",
        "colab": {
          "base_uri": "https://localhost:8080/"
        }
      },
      "outputs": [
        {
          "output_type": "execute_result",
          "data": {
            "text/plain": [
              "tensor([2, 5])"
            ]
          },
          "metadata": {},
          "execution_count": 284
        }
      ],
      "source": [
        "tns[:,1] #all of first axis(rows), and index 1 of second axis(column)"
      ]
    },
    {
      "cell_type": "code",
      "execution_count": 285,
      "metadata": {
        "id": "nURGNlO6se4x",
        "outputId": "006397ef-b2df-49fe-e996-5b7c9d7b6352",
        "colab": {
          "base_uri": "https://localhost:8080/"
        }
      },
      "outputs": [
        {
          "output_type": "execute_result",
          "data": {
            "text/plain": [
              "tensor([5, 6])"
            ]
          },
          "metadata": {},
          "execution_count": 285
        }
      ],
      "source": [
        "tns[1,1:3] #using python slice syntax.\n",
        "#[start:end] => math notation=>[start,end) end is excluded.\n",
        "# so here, [4,5,6], 1:3 gives 5,6 or 1,2 indexes and not 3."
      ]
    },
    {
      "cell_type": "code",
      "execution_count": 286,
      "metadata": {
        "id": "o9biX0Nnse4y",
        "outputId": "a6d7451d-29d5-4dbc-c66c-d05416e88f4b",
        "colab": {
          "base_uri": "https://localhost:8080/"
        }
      },
      "outputs": [
        {
          "output_type": "execute_result",
          "data": {
            "text/plain": [
              "tensor([[2, 3, 4],\n",
              "        [5, 6, 7]])"
            ]
          },
          "metadata": {},
          "execution_count": 286
        }
      ],
      "source": [
        "tns+1"
      ]
    },
    {
      "cell_type": "code",
      "execution_count": 287,
      "metadata": {
        "id": "_oirerb3se4z",
        "outputId": "985d12b1-fc68-4ceb-d9da-3a1b8b57d184",
        "colab": {
          "base_uri": "https://localhost:8080/",
          "height": 35
        }
      },
      "outputs": [
        {
          "output_type": "execute_result",
          "data": {
            "text/plain": [
              "'torch.LongTensor'"
            ],
            "application/vnd.google.colaboratory.intrinsic+json": {
              "type": "string"
            }
          },
          "metadata": {},
          "execution_count": 287
        }
      ],
      "source": [
        "tns.type()"
      ]
    },
    {
      "cell_type": "code",
      "execution_count": 288,
      "metadata": {
        "id": "Y0N-3MIXse4z",
        "outputId": "61fc8626-1cd1-485a-90f9-51f3e66810b0",
        "colab": {
          "base_uri": "https://localhost:8080/"
        }
      },
      "outputs": [
        {
          "output_type": "execute_result",
          "data": {
            "text/plain": [
              "tensor([[1.5000, 3.0000, 4.5000],\n",
              "        [6.0000, 7.5000, 9.0000]])"
            ]
          },
          "metadata": {},
          "execution_count": 288
        }
      ],
      "source": [
        "tns*1.5"
      ]
    },
    {
      "cell_type": "markdown",
      "metadata": {
        "id": "GuV9W7GOse40"
      },
      "source": [
        "## Computing Metrics Using Broadcasting"
      ]
    },
    {
      "cell_type": "markdown",
      "metadata": {
        "id": "TelTtPogse40"
      },
      "source": [
        "We made our baseline model using simple mean and measuring distance with L1 or L2 Norm loss functions. now we must see if our baseline model is any good. To QUANTIFY this we must define a metric.<br>\n",
        "a metric is a number that is calculated based on the predictions of our model, and the correct labels in our dataset, in order to tell us how good our model is.<br>\n",
        "we can use MSE or mean absolute error, but values are not understandable. so we instead use *accuracy* as a metric for classification models.<br>\n",
        "we calculate metric over a *validation set* to not over-fit data.\n"
      ]
    },
    {
      "cell_type": "code",
      "execution_count": 289,
      "metadata": {
        "id": "pf4Nb-xjse44",
        "outputId": "e7504487-72b4-4eb5-a1f9-b10c5da7c719",
        "colab": {
          "base_uri": "https://localhost:8080/"
        }
      },
      "outputs": [
        {
          "output_type": "execute_result",
          "data": {
            "text/plain": [
              "(torch.Size([1010, 28, 28]), torch.Size([1028, 28, 28]))"
            ]
          },
          "metadata": {},
          "execution_count": 289
        }
      ],
      "source": [
        "# creating a validation set.\n",
        "valid_3_tens = torch.stack([tensor(Image.open(o))\n",
        "                            for o in (path/'valid'/'3').ls()])\n",
        "valid_3_tens = valid_3_tens.float()/255\n",
        "valid_7_tens = torch.stack([tensor(Image.open(o)) \n",
        "                            for o in (path/'valid'/'7').ls()])\n",
        "valid_7_tens = valid_7_tens.float()/255\n",
        "valid_3_tens.shape,valid_7_tens.shape"
      ]
    },
    {
      "cell_type": "markdown",
      "metadata": {
        "id": "JHrciJ42se45"
      },
      "source": [
        "It's good to get in the habit of checking shapes as you go. Here we see two tensors, one representing the 3s validation set of 1,010 images of size 28×28, and one representing the 7s validation set of 1,028 images of size 28×28.\n",
        "\n",
        "We ultimately want to write a function, `is_3`, that will decide if an arbitrary image is a 3 or a 7. It will do this by deciding which of our two \"ideal digits\" this arbitrary image is closer to. For that we need to define a notion of distance—that is, a function that calculates the distance between two images.\n",
        "\n",
        "We can write a simple function that calculates the mean absolute error using an expression very similar to the one we wrote in the last section:"
      ]
    },
    {
      "cell_type": "code",
      "execution_count": 290,
      "metadata": {
        "id": "hoxHWUeWse47",
        "outputId": "c4ee9407-5876-4720-c5d8-2dc9382f5982",
        "colab": {
          "base_uri": "https://localhost:8080/"
        }
      },
      "outputs": [
        {
          "output_type": "execute_result",
          "data": {
            "text/plain": [
              "tensor(0.1114)"
            ]
          },
          "metadata": {},
          "execution_count": 290
        }
      ],
      "source": [
        "# measure distance of test_image with the ideal digits of 4 and 7.\n",
        "def mnist_distance(a,b): return (a-b).abs().mean((-1,-2))\n",
        "#mean((-1,-2)) : take mean over the last axes with pixel values, convert to one no. i.e. mnist_distance.\n",
        "mnist_distance(a_3, mean3)"
      ]
    },
    {
      "cell_type": "code",
      "execution_count": 291,
      "metadata": {
        "id": "46fl_5TUse48",
        "outputId": "dcdd62d2-c58e-490a-91c2-0231cffaaf21",
        "colab": {
          "base_uri": "https://localhost:8080/"
        }
      },
      "outputs": [
        {
          "output_type": "execute_result",
          "data": {
            "text/plain": [
              "(tensor([0.1242, 0.1132, 0.1246,  ..., 0.1285, 0.1309, 0.1262]),\n",
              " torch.Size([1010]))"
            ]
          },
          "metadata": {},
          "execution_count": 291
        }
      ],
      "source": [
        "valid_3_dist = mnist_distance(valid_3_tens, mean3)\n",
        "valid_3_dist, valid_3_dist.shape"
      ]
    },
    {
      "cell_type": "markdown",
      "metadata": {
        "id": "Q5eo5bx-se48"
      },
      "source": [
        "`valid_3_tens` and `mean3` rank doesn't match. The magic trick is that PyTorch, when it tries to perform a simple subtraction operation between two tensors of different ranks, will use *broadcasting*. That is, it will automatically expand the tensor with the smaller rank to have the same size as the one with the larger rank. Broadcasting is an important capability that makes tensor code much easier to write."
      ]
    },
    {
      "cell_type": "code",
      "execution_count": 292,
      "metadata": {
        "id": "vKwpAT-Fse49",
        "outputId": "9319b76c-ef7e-4873-cb8a-a26b6bd6cb6a",
        "colab": {
          "base_uri": "https://localhost:8080/"
        }
      },
      "outputs": [
        {
          "output_type": "execute_result",
          "data": {
            "text/plain": [
              "tensor([2, 3, 4])"
            ]
          },
          "metadata": {},
          "execution_count": 292
        }
      ],
      "source": [
        "tensor([1,2,3]) + tensor(1) #simple broadcasting example."
      ]
    },
    {
      "cell_type": "code",
      "execution_count": 293,
      "metadata": {
        "id": "qEmOKBRBse4-",
        "outputId": "4e469427-081d-4aa3-ded1-84e93a913d1a",
        "colab": {
          "base_uri": "https://localhost:8080/"
        }
      },
      "outputs": [
        {
          "output_type": "execute_result",
          "data": {
            "text/plain": [
              "torch.Size([1010, 28, 28])"
            ]
          },
          "metadata": {},
          "execution_count": 293
        }
      ],
      "source": [
        "(valid_3_tens-mean3).shape"
      ]
    },
    {
      "cell_type": "markdown",
      "metadata": {
        "id": "xpkJJWsXse4_"
      },
      "source": [
        "We are calculating the difference between our \"ideal 3\" and each of the 1,010 3s in the validation set, for each of 28×28 images, resulting in the shape `[1010,28,28]`.\n",
        "\n",
        "There are a couple of important points about how broadcasting is implemented, which make it valuable not just for expressivity but also for performance:\n",
        "\n",
        "- PyTorch doesn't *actually* copy `mean3` 1,010 times. It *pretends* it were a tensor of that shape, but doesn't actually allocate any additional memory\n",
        "- It does the whole calculation in C (or, if you're using a GPU, in CUDA, the equivalent of C on the GPU), tens of thousands of times faster than pure Python (up to millions of times faster on a GPU!).\n",
        "\n",
        "This is true of all broadcasting and elementwise operations and functions done in PyTorch. *It's the most important technique for you to know to create efficient PyTorch code.*\n",
        "\n",
        "Next in `mnist_distance` we see `abs`. You might be able to guess now what this does when applied to a tensor. It applies the method to each individual element in the tensor, and returns a tensor of the results (that is, it applies the method \"elementwise\"). So in this case, we'll get back 1,010 matrices of absolute values.\n",
        "\n",
        "Finally, our function calls `mean((-1,-2))`. The tuple `(-1,-2)` represents a range of axes. In Python, `-1` refers to the last element, and `-2` refers to the second-to-last. So in this case, this tells PyTorch that we want to take the mean ranging over the values indexed by the last two axes of the tensor. The last two axes are the horizontal and vertical dimensions of an image. After taking the mean over the last two axes, we are left with just the first tensor axis, which indexes over our images, which is why our final size was `(1010)`. In other words, for every image, we averaged the intensity of all the pixels in that image.\n",
        "\n",
        "We'll be learning lots more about broadcasting throughout this book, especially in <<chapter_foundations>>, and will be practicing it regularly too.\n",
        "\n",
        "We can use `mnist_distance` to figure out whether an image is a 3 or not by using the following logic: if the distance between the digit in question and the ideal 3 is less than the distance to the ideal 7, then it's a 3. This function will automatically do broadcasting and be applied elementwise, just like all PyTorch functions and operators:"
      ]
    },
    {
      "cell_type": "code",
      "execution_count": 294,
      "metadata": {
        "id": "yLRBYXwZse5B"
      },
      "outputs": [],
      "source": [
        "def is_3(x): return mnist_distance(x,mean3) < mnist_distance(x,mean7)"
      ]
    },
    {
      "cell_type": "code",
      "execution_count": 295,
      "metadata": {
        "id": "VXAONv00se5C",
        "outputId": "cec94a18-2aab-4c0d-965a-b3e9de3f4f2b",
        "colab": {
          "base_uri": "https://localhost:8080/"
        }
      },
      "outputs": [
        {
          "output_type": "execute_result",
          "data": {
            "text/plain": [
              "(tensor(True), tensor(1.))"
            ]
          },
          "metadata": {},
          "execution_count": 295
        }
      ],
      "source": [
        "is_3(a_3), is_3(a_3).float() #testing on eg a_3."
      ]
    },
    {
      "cell_type": "code",
      "execution_count": 296,
      "metadata": {
        "id": "-trLugAkse5D",
        "outputId": "46f79164-d9fd-4679-d510-bf5c6ac785aa",
        "colab": {
          "base_uri": "https://localhost:8080/"
        }
      },
      "outputs": [
        {
          "output_type": "execute_result",
          "data": {
            "text/plain": [
              "tensor([True, True, True,  ..., True, True, True])"
            ]
          },
          "metadata": {},
          "execution_count": 296
        }
      ],
      "source": [
        "is_3(valid_3_tens) #using broadcasting to test on full validation set."
      ]
    },
    {
      "cell_type": "code",
      "execution_count": 297,
      "metadata": {
        "id": "AO44IYnRse5E",
        "outputId": "50251d12-f729-435a-b6ab-f2d4218ffe75",
        "colab": {
          "base_uri": "https://localhost:8080/"
        }
      },
      "outputs": [
        {
          "output_type": "execute_result",
          "data": {
            "text/plain": [
              "(tensor(0.9168), tensor(0.9854), tensor(0.9511))"
            ]
          },
          "metadata": {},
          "execution_count": 297
        }
      ],
      "source": [
        "accuracy_3s =      is_3(valid_3_tens).float() .mean()\n",
        "accuracy_7s = (1 - is_3(valid_7_tens).float()).mean()\n",
        "\n",
        "accuracy_3s,accuracy_7s,(accuracy_3s+accuracy_7s)/2"
      ]
    },
    {
      "cell_type": "markdown",
      "metadata": {
        "id": "yz1NU3N2se5F"
      },
      "source": [
        "until now no real learning is being done. in *Pixel Similarity* approach, only checking two digit. now using stochastic gradient descent."
      ]
    },
    {
      "cell_type": "markdown",
      "metadata": {
        "id": "67nym253se5G"
      },
      "source": [
        "## Stochastic Gradient Descent (SGD)"
      ]
    },
    {
      "cell_type": "code",
      "execution_count": 298,
      "metadata": {
        "id": "eeZPFSnrse5G",
        "outputId": "f3263ad8-2107-494b-e07f-26563268af57",
        "colab": {
          "base_uri": "https://localhost:8080/",
          "height": 125
        }
      },
      "outputs": [
        {
          "output_type": "execute_result",
          "data": {
            "text/plain": [
              "<graphviz.files.Source at 0x7f463f958fd0>"
            ],
            "image/svg+xml": "<?xml version=\"1.0\" encoding=\"UTF-8\" standalone=\"no\"?>\n<!DOCTYPE svg PUBLIC \"-//W3C//DTD SVG 1.1//EN\"\n \"http://www.w3.org/Graphics/SVG/1.1/DTD/svg11.dtd\">\n<!-- Generated by graphviz version 2.40.1 (20161225.0304)\n -->\n<!-- Title: G Pages: 1 -->\n<svg width=\"597pt\" height=\"78pt\"\n viewBox=\"0.00 0.00 596.69 78.00\" xmlns=\"http://www.w3.org/2000/svg\" xmlns:xlink=\"http://www.w3.org/1999/xlink\">\n<g id=\"graph0\" class=\"graph\" transform=\"scale(1 1) rotate(0) translate(4 74)\">\n<title>G</title>\n<polygon fill=\"#ffffff\" stroke=\"transparent\" points=\"-4,4 -4,-74 592.6863,-74 592.6863,4 -4,4\"/>\n<!-- init -->\n<g id=\"node1\" class=\"node\">\n<title>init</title>\n<ellipse fill=\"none\" stroke=\"#000000\" cx=\"27\" cy=\"-18\" rx=\"27\" ry=\"18\"/>\n<text text-anchor=\"middle\" x=\"27\" y=\"-14.3\" font-family=\"Times,serif\" font-size=\"14.00\" fill=\"#000000\">init</text>\n</g>\n<!-- predict -->\n<g id=\"node2\" class=\"node\">\n<title>predict</title>\n<ellipse fill=\"none\" stroke=\"#000000\" cx=\"127.3968\" cy=\"-18\" rx=\"36.2938\" ry=\"18\"/>\n<text text-anchor=\"middle\" x=\"127.3968\" y=\"-14.3\" font-family=\"Times,serif\" font-size=\"14.00\" fill=\"#000000\">predict</text>\n</g>\n<!-- init&#45;&gt;predict -->\n<g id=\"edge1\" class=\"edge\">\n<title>init&#45;&gt;predict</title>\n<path fill=\"none\" stroke=\"#000000\" d=\"M54.1688,-18C62.3543,-18 71.5827,-18 80.6596,-18\"/>\n<polygon fill=\"#000000\" stroke=\"#000000\" points=\"80.7795,-21.5001 90.7795,-18 80.7795,-14.5001 80.7795,-21.5001\"/>\n</g>\n<!-- loss -->\n<g id=\"node3\" class=\"node\">\n<title>loss</title>\n<ellipse fill=\"none\" stroke=\"#000000\" cx=\"227.7935\" cy=\"-52\" rx=\"27\" ry=\"18\"/>\n<text text-anchor=\"middle\" x=\"227.7935\" y=\"-48.3\" font-family=\"Times,serif\" font-size=\"14.00\" fill=\"#000000\">loss</text>\n</g>\n<!-- predict&#45;&gt;loss -->\n<g id=\"edge2\" class=\"edge\">\n<title>predict&#45;&gt;loss</title>\n<path fill=\"none\" stroke=\"#000000\" d=\"M157.5191,-28.2011C168.9806,-32.0826 182.1139,-36.5303 193.9014,-40.5222\"/>\n<polygon fill=\"#000000\" stroke=\"#000000\" points=\"192.8259,-43.8532 203.4202,-43.7458 195.0713,-37.2231 192.8259,-43.8532\"/>\n</g>\n<!-- gradient -->\n<g id=\"node4\" class=\"node\">\n<title>gradient</title>\n<ellipse fill=\"none\" stroke=\"#000000\" cx=\"365.7399\" cy=\"-52\" rx=\"40.8928\" ry=\"18\"/>\n<text text-anchor=\"middle\" x=\"365.7399\" y=\"-48.3\" font-family=\"Times,serif\" font-size=\"14.00\" fill=\"#000000\">gradient</text>\n</g>\n<!-- loss&#45;&gt;gradient -->\n<g id=\"edge3\" class=\"edge\">\n<title>loss&#45;&gt;gradient</title>\n<path fill=\"none\" stroke=\"#000000\" d=\"M255.0473,-52C272.0415,-52 294.4481,-52 314.6545,-52\"/>\n<polygon fill=\"#000000\" stroke=\"#000000\" points=\"314.671,-55.5001 324.671,-52 314.671,-48.5001 314.671,-55.5001\"/>\n</g>\n<!-- step -->\n<g id=\"node5\" class=\"node\">\n<title>step</title>\n<ellipse fill=\"none\" stroke=\"#000000\" cx=\"470.6863\" cy=\"-18\" rx=\"27\" ry=\"18\"/>\n<text text-anchor=\"middle\" x=\"470.6863\" y=\"-14.3\" font-family=\"Times,serif\" font-size=\"14.00\" fill=\"#000000\">step</text>\n</g>\n<!-- gradient&#45;&gt;step -->\n<g id=\"edge4\" class=\"edge\">\n<title>gradient&#45;&gt;step</title>\n<path fill=\"none\" stroke=\"#000000\" d=\"M398.9456,-41.2422C410.9558,-37.3512 424.5297,-32.9536 436.6132,-29.0388\"/>\n<polygon fill=\"#000000\" stroke=\"#000000\" points=\"437.9112,-32.2975 446.3457,-25.8857 435.7537,-25.6382 437.9112,-32.2975\"/>\n</g>\n<!-- step&#45;&gt;predict -->\n<g id=\"edge6\" class=\"edge\">\n<title>step&#45;&gt;predict</title>\n<path fill=\"none\" stroke=\"#000000\" d=\"M443.4266,-18C384.9297,-18 246.7861,-18 174.0495,-18\"/>\n<polygon fill=\"#000000\" stroke=\"#000000\" points=\"173.8098,-14.5001 163.8098,-18 173.8097,-21.5001 173.8098,-14.5001\"/>\n<text text-anchor=\"middle\" x=\"289.7935\" y=\"-21.8\" font-family=\"Times,serif\" font-size=\"14.00\" fill=\"#000000\">repeat</text>\n</g>\n<!-- stop -->\n<g id=\"node6\" class=\"node\">\n<title>stop</title>\n<ellipse fill=\"none\" stroke=\"#000000\" cx=\"561.6863\" cy=\"-18\" rx=\"27\" ry=\"18\"/>\n<text text-anchor=\"middle\" x=\"561.6863\" y=\"-14.3\" font-family=\"Times,serif\" font-size=\"14.00\" fill=\"#000000\">stop</text>\n</g>\n<!-- step&#45;&gt;stop -->\n<g id=\"edge5\" class=\"edge\">\n<title>step&#45;&gt;stop</title>\n<path fill=\"none\" stroke=\"#000000\" d=\"M497.9893,-18C506.2676,-18 515.508,-18 524.3268,-18\"/>\n<polygon fill=\"#000000\" stroke=\"#000000\" points=\"524.4026,-21.5001 534.4025,-18 524.4025,-14.5001 524.4026,-21.5001\"/>\n</g>\n</g>\n</svg>\n"
          },
          "metadata": {},
          "execution_count": 298
        }
      ],
      "source": [
        "gv('''\n",
        "init->predict->loss->gradient->step->stop\n",
        "step->predict[label=repeat]\n",
        "''')"
      ]
    },
    {
      "cell_type": "code",
      "execution_count": 299,
      "metadata": {
        "id": "m9Cyhd5fse5H"
      },
      "outputs": [],
      "source": [
        "def f(x): return x**2"
      ]
    },
    {
      "cell_type": "code",
      "execution_count": 300,
      "metadata": {
        "id": "iz-dBnldse5I",
        "outputId": "d8cb304c-986b-402e-f60a-0cbeef51c5e3",
        "colab": {
          "base_uri": "https://localhost:8080/",
          "height": 285
        }
      },
      "outputs": [
        {
          "output_type": "display_data",
          "data": {
            "text/plain": [
              "<Figure size 432x288 with 1 Axes>"
            ],
            "image/png": "[encoded data removed]"
          },
          "metadata": {
            "needs_background": "light"
          }
        }
      ],
      "source": [
        "plot_function(f, 'x', 'x**2')"
      ]
    },
    {
      "cell_type": "code",
      "execution_count": 301,
      "metadata": {
        "id": "ENxupkA3se5U",
        "outputId": "5097d893-70fc-48ae-cb14-6cdc3f73ae9a",
        "colab": {
          "base_uri": "https://localhost:8080/",
          "height": 285
        }
      },
      "outputs": [
        {
          "output_type": "display_data",
          "data": {
            "text/plain": [
              "<Figure size 432x288 with 1 Axes>"
            ],
            "image/png": "[encoded data removed]"
          },
          "metadata": {
            "needs_background": "light"
          }
        }
      ],
      "source": [
        "plot_function(f, 'x', 'x**2')\n",
        "plt.scatter(-1.5, f(-1.5), color='red');"
      ]
    },
    {
      "cell_type": "markdown",
      "metadata": {
        "id": "MF8jBDf7se5W"
      },
      "source": [
        "### Calculating Gradients"
      ]
    },
    {
      "cell_type": "code",
      "execution_count": 302,
      "metadata": {
        "id": "5Zv18A-3se5X"
      },
      "outputs": [],
      "source": [
        "xt = tensor(3.).requires_grad_()"
      ]
    },
    {
      "cell_type": "code",
      "execution_count": 303,
      "metadata": {
        "id": "WPJoGhDYse5X",
        "outputId": "1655bc8c-620f-41f2-bb54-e9065f175b9c",
        "colab": {
          "base_uri": "https://localhost:8080/"
        }
      },
      "outputs": [
        {
          "output_type": "execute_result",
          "data": {
            "text/plain": [
              "tensor(9., grad_fn=<PowBackward0>)"
            ]
          },
          "metadata": {},
          "execution_count": 303
        }
      ],
      "source": [
        "yt = f(xt)\n",
        "yt"
      ]
    },
    {
      "cell_type": "code",
      "execution_count": 304,
      "metadata": {
        "id": "vtApRSH1se5Y"
      },
      "outputs": [],
      "source": [
        "yt.backward() #calculate gradient of yt with rexpect to xt.\n",
        "# or where for a parameter requires_grad_() is defined. "
      ]
    },
    {
      "cell_type": "code",
      "execution_count": 305,
      "metadata": {
        "id": "COajIjoIse5Z",
        "outputId": "6a3cc671-2884-49fd-d7d6-6f309fd1e846",
        "colab": {
          "base_uri": "https://localhost:8080/"
        }
      },
      "outputs": [
        {
          "output_type": "execute_result",
          "data": {
            "text/plain": [
              "tensor(6.)"
            ]
          },
          "metadata": {},
          "execution_count": 305
        }
      ],
      "source": [
        "xt.grad"
      ]
    },
    {
      "cell_type": "code",
      "execution_count": 306,
      "metadata": {
        "id": "_-nSPQADse5b",
        "outputId": "db3895d9-9159-4e1c-be3e-444f91e34494",
        "colab": {
          "base_uri": "https://localhost:8080/"
        }
      },
      "outputs": [
        {
          "output_type": "execute_result",
          "data": {
            "text/plain": [
              "tensor([ 3.,  4., 10.], requires_grad=True)"
            ]
          },
          "metadata": {},
          "execution_count": 306
        }
      ],
      "source": [
        "xt = tensor([3.,4.,10.]).requires_grad_()\n",
        "xt"
      ]
    },
    {
      "cell_type": "code",
      "execution_count": 307,
      "metadata": {
        "id": "_3wfn-2xse5d",
        "outputId": "80f25782-88e6-47a9-f88f-68daf50cb459",
        "colab": {
          "base_uri": "https://localhost:8080/"
        }
      },
      "outputs": [
        {
          "output_type": "execute_result",
          "data": {
            "text/plain": [
              "tensor(125., grad_fn=<SumBackward0>)"
            ]
          },
          "metadata": {},
          "execution_count": 307
        }
      ],
      "source": [
        "def f(x): return (x**2).sum()\n",
        "\n",
        "yt = f(xt)\n",
        "yt"
      ]
    },
    {
      "cell_type": "code",
      "execution_count": 308,
      "metadata": {
        "id": "HGNh4dbYse5d",
        "outputId": "f73edf16-7b7d-4ecb-ac04-373ac320780d",
        "colab": {
          "base_uri": "https://localhost:8080/"
        }
      },
      "outputs": [
        {
          "output_type": "execute_result",
          "data": {
            "text/plain": [
              "tensor([ 6.,  8., 20.])"
            ]
          },
          "metadata": {},
          "execution_count": 308
        }
      ],
      "source": [
        "yt.backward()\n",
        "xt.grad"
      ]
    },
    {
      "cell_type": "markdown",
      "metadata": {
        "id": "8RoOq1IZse5e"
      },
      "source": [
        "### Stepping With a Learning Rate"
      ]
    },
    {
      "cell_type": "markdown",
      "metadata": {
        "id": "WcAYoRoose5f"
      },
      "source": [
        "### An End-to-End SGD Example"
      ]
    },
    {
      "cell_type": "code",
      "execution_count": 309,
      "metadata": {
        "id": "JTONjRejse5f",
        "outputId": "17ca2d29-faaa-4612-c3b2-52a288669cd3",
        "colab": {
          "base_uri": "https://localhost:8080/"
        }
      },
      "outputs": [
        {
          "output_type": "execute_result",
          "data": {
            "text/plain": [
              "tensor([ 0.,  1.,  2.,  3.,  4.,  5.,  6.,  7.,  8.,  9., 10., 11., 12., 13., 14., 15., 16., 17., 18., 19.])"
            ]
          },
          "metadata": {},
          "execution_count": 309
        }
      ],
      "source": [
        "time = torch.arange(0,20).float(); time"
      ]
    },
    {
      "cell_type": "code",
      "execution_count": 310,
      "metadata": {
        "id": "4fcAR3kFse5h",
        "outputId": "30e1404f-08ee-4c6a-9657-3043bf42a5d8",
        "colab": {
          "base_uri": "https://localhost:8080/",
          "height": 268
        }
      },
      "outputs": [
        {
          "output_type": "display_data",
          "data": {
            "text/plain": [
              "<Figure size 432x288 with 1 Axes>"
            ],
            "image/png": "[encoded data removed]"
          },
          "metadata": {
            "needs_background": "light"
          }
        }
      ],
      "source": [
        "speed = torch.randn(20)*3 + 0.75*(time-9.5)**2 + 1\n",
        "plt.scatter(time,speed);"
      ]
    },
    {
      "cell_type": "code",
      "execution_count": 311,
      "metadata": {
        "id": "-ngtcgQRse5h"
      },
      "outputs": [],
      "source": [
        "def f(t, params):\n",
        "    a,b,c = params\n",
        "    return a*(t**2) + (b*t) + c"
      ]
    },
    {
      "cell_type": "code",
      "execution_count": 312,
      "metadata": {
        "id": "Mgy3Rpxise5i"
      },
      "outputs": [],
      "source": [
        "def mse(preds, targets): return ((preds-targets)**2).mean()"
      ]
    },
    {
      "cell_type": "markdown",
      "metadata": {
        "id": "Nm6ZgkD7se5i"
      },
      "source": [
        "#### Step 1: Initialize the parameters"
      ]
    },
    {
      "cell_type": "code",
      "execution_count": 313,
      "metadata": {
        "id": "Pbb2cXYrse5j"
      },
      "outputs": [],
      "source": [
        "params = torch.randn(3).requires_grad_()"
      ]
    },
    {
      "cell_type": "code",
      "execution_count": 314,
      "metadata": {
        "id": "O6VFs5tmse5k"
      },
      "outputs": [],
      "source": [
        "#hide\n",
        "orig_params = params.clone()"
      ]
    },
    {
      "cell_type": "markdown",
      "metadata": {
        "id": "410zoFQrse5k"
      },
      "source": [
        "#### Step 2: Calculate the predictions"
      ]
    },
    {
      "cell_type": "code",
      "execution_count": 315,
      "metadata": {
        "id": "6oE7p0xNse5l"
      },
      "outputs": [],
      "source": [
        "preds = f(time, params)"
      ]
    },
    {
      "cell_type": "code",
      "execution_count": 316,
      "metadata": {
        "id": "6Yps0jdgse5l"
      },
      "outputs": [],
      "source": [
        "def show_preds(preds, ax=None):\n",
        "    if ax is None: ax=plt.subplots()[1]\n",
        "    ax.scatter(time, speed)\n",
        "    ax.scatter(time, to_np(preds), color='red')\n",
        "    ax.set_ylim(-300,100)"
      ]
    },
    {
      "cell_type": "code",
      "execution_count": 317,
      "metadata": {
        "id": "0ZA2WS--se5m",
        "outputId": "d555bbd7-61a2-492f-c42a-7f416ea6fd4a",
        "colab": {
          "base_uri": "https://localhost:8080/",
          "height": 273
        }
      },
      "outputs": [
        {
          "output_type": "display_data",
          "data": {
            "text/plain": [
              "<Figure size 432x288 with 1 Axes>"
            ],
            "image/png": "[encoded data removed]"
          },
          "metadata": {
            "needs_background": "light"
          }
        }
      ],
      "source": [
        "show_preds(preds)"
      ]
    },
    {
      "cell_type": "markdown",
      "metadata": {
        "id": "IbMknR_kse5m"
      },
      "source": [
        "#### Step 3: Calculate the loss"
      ]
    },
    {
      "cell_type": "code",
      "execution_count": 318,
      "metadata": {
        "id": "ts_VhKQJse5n",
        "outputId": "0d8c1e6e-3d28-46b1-d416-a2d70a3e355e",
        "colab": {
          "base_uri": "https://localhost:8080/"
        }
      },
      "outputs": [
        {
          "output_type": "execute_result",
          "data": {
            "text/plain": [
              "tensor(59102.5859, grad_fn=<MeanBackward0>)"
            ]
          },
          "metadata": {},
          "execution_count": 318
        }
      ],
      "source": [
        "loss = mse(preds, speed)\n",
        "loss"
      ]
    },
    {
      "cell_type": "markdown",
      "metadata": {
        "id": "Gakiqsccse5n"
      },
      "source": [
        "#### Step 4: Calculate the gradients"
      ]
    },
    {
      "cell_type": "code",
      "execution_count": 319,
      "metadata": {
        "id": "gZTVSS7jse5o",
        "outputId": "805ca009-e392-407a-9ad1-551d6774983c",
        "colab": {
          "base_uri": "https://localhost:8080/"
        }
      },
      "outputs": [
        {
          "output_type": "execute_result",
          "data": {
            "text/plain": [
              "tensor([-81058.0781,  -5223.4287,   -379.8395])"
            ]
          },
          "metadata": {},
          "execution_count": 319
        }
      ],
      "source": [
        "loss.backward()\n",
        "params.grad"
      ]
    },
    {
      "cell_type": "code",
      "execution_count": 320,
      "metadata": {
        "id": "-kvvdgQ5se5p",
        "outputId": "72764b49-9336-423b-b6e2-3c25f286c8fb",
        "colab": {
          "base_uri": "https://localhost:8080/"
        }
      },
      "outputs": [
        {
          "output_type": "execute_result",
          "data": {
            "text/plain": [
              "tensor([-0.8106, -0.0522, -0.0038])"
            ]
          },
          "metadata": {},
          "execution_count": 320
        }
      ],
      "source": [
        "params.grad * 1e-5"
      ]
    },
    {
      "cell_type": "code",
      "execution_count": 321,
      "metadata": {
        "id": "jd46aXx9se5p",
        "outputId": "457addc3-19ab-472e-aa61-b67ea57b23c4",
        "colab": {
          "base_uri": "https://localhost:8080/"
        }
      },
      "outputs": [
        {
          "output_type": "execute_result",
          "data": {
            "text/plain": [
              "tensor([-1.2414, -0.7704, -2.1995], requires_grad=True)"
            ]
          },
          "metadata": {},
          "execution_count": 321
        }
      ],
      "source": [
        "params # params before stepping weights/params"
      ]
    },
    {
      "cell_type": "markdown",
      "metadata": {
        "id": "nB2Tbe2yse5q"
      },
      "source": [
        "#### Step 5: Step the weights. "
      ]
    },
    {
      "cell_type": "code",
      "execution_count": 322,
      "metadata": {
        "id": "JoY7axQ8se5q"
      },
      "outputs": [],
      "source": [
        "lr = 1e-5\n",
        "params.data -= lr * params.grad.data ## using params.data to change params/weights\n",
        "params.grad = None ## setting params.grad to None, or else, next time params.grad will add to previous grad."
      ]
    },
    {
      "cell_type": "code",
      "execution_count": 323,
      "metadata": {
        "id": "tW3eRqxcse5r",
        "outputId": "ab01e85e-fd8f-44d2-a789-36f7efc37ca7",
        "colab": {
          "base_uri": "https://localhost:8080/"
        }
      },
      "outputs": [
        {
          "output_type": "execute_result",
          "data": {
            "text/plain": [
              "tensor(11762.8652, grad_fn=<MeanBackward0>)"
            ]
          },
          "metadata": {},
          "execution_count": 323
        }
      ],
      "source": [
        "preds = f(time,params)\n",
        "mse(preds, speed)"
      ]
    },
    {
      "cell_type": "code",
      "execution_count": 324,
      "metadata": {
        "id": "iydfKfNQse6L",
        "outputId": "f63b4e2c-18d8-485e-b338-3898b3929538",
        "colab": {
          "base_uri": "https://localhost:8080/",
          "height": 273
        }
      },
      "outputs": [
        {
          "output_type": "display_data",
          "data": {
            "text/plain": [
              "<Figure size 432x288 with 1 Axes>"
            ],
            "image/png": "[encoded data removed]"
          },
          "metadata": {
            "needs_background": "light"
          }
        }
      ],
      "source": [
        "show_preds(preds)"
      ]
    },
    {
      "cell_type": "code",
      "execution_count": 325,
      "metadata": {
        "id": "cuAG4mBtse6L"
      },
      "outputs": [],
      "source": [
        "def apply_step(params, prn=True):\n",
        "    preds = f(time, params)\n",
        "    loss = mse(preds, speed)\n",
        "    loss.backward()\n",
        "    params.data -= lr * params.grad.data\n",
        "    params.grad = None\n",
        "    if prn: print(loss.item())\n",
        "    return preds"
      ]
    },
    {
      "cell_type": "markdown",
      "metadata": {
        "id": "BJv09t3Lse6S"
      },
      "source": [
        "#### Step 6: Repeat the process "
      ]
    },
    {
      "cell_type": "code",
      "execution_count": 326,
      "metadata": {
        "id": "truZzfNpse6S",
        "outputId": "c260ade7-d1fd-49aa-f3b5-9904d623d74b",
        "colab": {
          "base_uri": "https://localhost:8080/"
        }
      },
      "outputs": [
        {
          "output_type": "stream",
          "name": "stdout",
          "text": [
            "11762.865234375\n",
            "2804.73974609375\n",
            "1109.580322265625\n",
            "788.796142578125\n",
            "728.0858154296875\n",
            "716.5892333984375\n",
            "714.4054565429688\n",
            "713.9840087890625\n",
            "713.8961181640625\n",
            "713.8712158203125\n"
          ]
        }
      ],
      "source": [
        "for i in range(10): apply_step(params)\n",
        "## prints loss, loss is going down"
      ]
    },
    {
      "cell_type": "code",
      "execution_count": 327,
      "metadata": {
        "id": "QDJq1Fs6se6m"
      },
      "outputs": [],
      "source": [
        "#hide\n",
        "params = orig_params.detach().requires_grad_()"
      ]
    },
    {
      "cell_type": "code",
      "source": [
        "params"
      ],
      "metadata": {
        "id": "5KO4nJ7oBGZi",
        "outputId": "fe6d1ec8-e5a0-40e3-daa7-86372be67887",
        "colab": {
          "base_uri": "https://localhost:8080/"
        }
      },
      "execution_count": 328,
      "outputs": [
        {
          "output_type": "execute_result",
          "data": {
            "text/plain": [
              "tensor([-1.2414, -0.7704, -2.1995], requires_grad=True)"
            ]
          },
          "metadata": {},
          "execution_count": 328
        }
      ]
    },
    {
      "cell_type": "code",
      "execution_count": 329,
      "metadata": {
        "id": "13YEdu6Bse6q",
        "outputId": "b25c8374-8152-4c81-de74-3c282a055e47",
        "colab": {
          "base_uri": "https://localhost:8080/",
          "height": 221
        }
      },
      "outputs": [
        {
          "output_type": "display_data",
          "data": {
            "text/plain": [
              "<Figure size 864x216 with 4 Axes>"
            ],
            "image/png": "[encoded data removed]"
          },
          "metadata": {
            "needs_background": "light"
          }
        }
      ],
      "source": [
        "_,axs = plt.subplots(1,4,figsize=(12,3))\n",
        "for ax in axs: show_preds(apply_step(params, False), ax)\n",
        "plt.tight_layout()"
      ]
    },
    {
      "cell_type": "markdown",
      "metadata": {
        "id": "uzxU26Rise6q"
      },
      "source": [
        "#### Step 7: stop"
      ]
    },
    {
      "cell_type": "markdown",
      "metadata": {
        "id": "Qcg6teXrse6r"
      },
      "source": [
        "### Summarizing Gradient Descent"
      ]
    },
    {
      "cell_type": "code",
      "execution_count": 330,
      "metadata": {
        "id": "D-Cx-02Nse6r",
        "outputId": "670f56de-0504-469f-b514-759f016b392d",
        "colab": {
          "base_uri": "https://localhost:8080/",
          "height": 125
        }
      },
      "outputs": [
        {
          "output_type": "execute_result",
          "data": {
            "text/plain": [
              "<graphviz.files.Source at 0x7f463cc24040>"
            ],
            "image/svg+xml": "<?xml version=\"1.0\" encoding=\"UTF-8\" standalone=\"no\"?>\n<!DOCTYPE svg PUBLIC \"-//W3C//DTD SVG 1.1//EN\"\n \"http://www.w3.org/Graphics/SVG/1.1/DTD/svg11.dtd\">\n<!-- Generated by graphviz version 2.40.1 (20161225.0304)\n -->\n<!-- Title: G Pages: 1 -->\n<svg width=\"597pt\" height=\"78pt\"\n viewBox=\"0.00 0.00 596.69 78.00\" xmlns=\"http://www.w3.org/2000/svg\" xmlns:xlink=\"http://www.w3.org/1999/xlink\">\n<g id=\"graph0\" class=\"graph\" transform=\"scale(1 1) rotate(0) translate(4 74)\">\n<title>G</title>\n<polygon fill=\"#ffffff\" stroke=\"transparent\" points=\"-4,4 -4,-74 592.6863,-74 592.6863,4 -4,4\"/>\n<!-- init -->\n<g id=\"node1\" class=\"node\">\n<title>init</title>\n<ellipse fill=\"none\" stroke=\"#000000\" cx=\"27\" cy=\"-18\" rx=\"27\" ry=\"18\"/>\n<text text-anchor=\"middle\" x=\"27\" y=\"-14.3\" font-family=\"Times,serif\" font-size=\"14.00\" fill=\"#000000\">init</text>\n</g>\n<!-- predict -->\n<g id=\"node2\" class=\"node\">\n<title>predict</title>\n<ellipse fill=\"none\" stroke=\"#000000\" cx=\"127.3968\" cy=\"-18\" rx=\"36.2938\" ry=\"18\"/>\n<text text-anchor=\"middle\" x=\"127.3968\" y=\"-14.3\" font-family=\"Times,serif\" font-size=\"14.00\" fill=\"#000000\">predict</text>\n</g>\n<!-- init&#45;&gt;predict -->\n<g id=\"edge1\" class=\"edge\">\n<title>init&#45;&gt;predict</title>\n<path fill=\"none\" stroke=\"#000000\" d=\"M54.1688,-18C62.3543,-18 71.5827,-18 80.6596,-18\"/>\n<polygon fill=\"#000000\" stroke=\"#000000\" points=\"80.7795,-21.5001 90.7795,-18 80.7795,-14.5001 80.7795,-21.5001\"/>\n</g>\n<!-- loss -->\n<g id=\"node3\" class=\"node\">\n<title>loss</title>\n<ellipse fill=\"none\" stroke=\"#000000\" cx=\"227.7935\" cy=\"-52\" rx=\"27\" ry=\"18\"/>\n<text text-anchor=\"middle\" x=\"227.7935\" y=\"-48.3\" font-family=\"Times,serif\" font-size=\"14.00\" fill=\"#000000\">loss</text>\n</g>\n<!-- predict&#45;&gt;loss -->\n<g id=\"edge2\" class=\"edge\">\n<title>predict&#45;&gt;loss</title>\n<path fill=\"none\" stroke=\"#000000\" d=\"M157.5191,-28.2011C168.9806,-32.0826 182.1139,-36.5303 193.9014,-40.5222\"/>\n<polygon fill=\"#000000\" stroke=\"#000000\" points=\"192.8259,-43.8532 203.4202,-43.7458 195.0713,-37.2231 192.8259,-43.8532\"/>\n</g>\n<!-- gradient -->\n<g id=\"node4\" class=\"node\">\n<title>gradient</title>\n<ellipse fill=\"none\" stroke=\"#000000\" cx=\"365.7399\" cy=\"-52\" rx=\"40.8928\" ry=\"18\"/>\n<text text-anchor=\"middle\" x=\"365.7399\" y=\"-48.3\" font-family=\"Times,serif\" font-size=\"14.00\" fill=\"#000000\">gradient</text>\n</g>\n<!-- loss&#45;&gt;gradient -->\n<g id=\"edge3\" class=\"edge\">\n<title>loss&#45;&gt;gradient</title>\n<path fill=\"none\" stroke=\"#000000\" d=\"M255.0473,-52C272.0415,-52 294.4481,-52 314.6545,-52\"/>\n<polygon fill=\"#000000\" stroke=\"#000000\" points=\"314.671,-55.5001 324.671,-52 314.671,-48.5001 314.671,-55.5001\"/>\n</g>\n<!-- step -->\n<g id=\"node5\" class=\"node\">\n<title>step</title>\n<ellipse fill=\"none\" stroke=\"#000000\" cx=\"470.6863\" cy=\"-18\" rx=\"27\" ry=\"18\"/>\n<text text-anchor=\"middle\" x=\"470.6863\" y=\"-14.3\" font-family=\"Times,serif\" font-size=\"14.00\" fill=\"#000000\">step</text>\n</g>\n<!-- gradient&#45;&gt;step -->\n<g id=\"edge4\" class=\"edge\">\n<title>gradient&#45;&gt;step</title>\n<path fill=\"none\" stroke=\"#000000\" d=\"M398.9456,-41.2422C410.9558,-37.3512 424.5297,-32.9536 436.6132,-29.0388\"/>\n<polygon fill=\"#000000\" stroke=\"#000000\" points=\"437.9112,-32.2975 446.3457,-25.8857 435.7537,-25.6382 437.9112,-32.2975\"/>\n</g>\n<!-- step&#45;&gt;predict -->\n<g id=\"edge6\" class=\"edge\">\n<title>step&#45;&gt;predict</title>\n<path fill=\"none\" stroke=\"#000000\" d=\"M443.4266,-18C384.9297,-18 246.7861,-18 174.0495,-18\"/>\n<polygon fill=\"#000000\" stroke=\"#000000\" points=\"173.8098,-14.5001 163.8098,-18 173.8097,-21.5001 173.8098,-14.5001\"/>\n<text text-anchor=\"middle\" x=\"289.7935\" y=\"-21.8\" font-family=\"Times,serif\" font-size=\"14.00\" fill=\"#000000\">repeat</text>\n</g>\n<!-- stop -->\n<g id=\"node6\" class=\"node\">\n<title>stop</title>\n<ellipse fill=\"none\" stroke=\"#000000\" cx=\"561.6863\" cy=\"-18\" rx=\"27\" ry=\"18\"/>\n<text text-anchor=\"middle\" x=\"561.6863\" y=\"-14.3\" font-family=\"Times,serif\" font-size=\"14.00\" fill=\"#000000\">stop</text>\n</g>\n<!-- step&#45;&gt;stop -->\n<g id=\"edge5\" class=\"edge\">\n<title>step&#45;&gt;stop</title>\n<path fill=\"none\" stroke=\"#000000\" d=\"M497.9893,-18C506.2676,-18 515.508,-18 524.3268,-18\"/>\n<polygon fill=\"#000000\" stroke=\"#000000\" points=\"524.4026,-21.5001 534.4025,-18 524.4025,-14.5001 524.4026,-21.5001\"/>\n</g>\n</g>\n</svg>\n"
          },
          "metadata": {},
          "execution_count": 330
        }
      ],
      "source": [
        "gv('''\n",
        "init->predict->loss->gradient->step->stop\n",
        "step->predict[label=repeat]\n",
        "''')"
      ]
    },
    {
      "cell_type": "markdown",
      "metadata": {
        "id": "BY9XhnKGse6r"
      },
      "source": [
        "## The MNIST Loss Function"
      ]
    },
    {
      "cell_type": "code",
      "execution_count": 331,
      "metadata": {
        "id": "ug6rnRrOse6s",
        "outputId": "0fb21b4a-2cf4-4122-f006-38ad7388c0f4",
        "colab": {
          "base_uri": "https://localhost:8080/"
        }
      },
      "outputs": [
        {
          "output_type": "execute_result",
          "data": {
            "text/plain": [
              "(torch.Size([12396, 28, 28]), torch.Size([12396, 784]))"
            ]
          },
          "metadata": {},
          "execution_count": 331
        }
      ],
      "source": [
        "train_x = torch.cat([stacked_threes, stacked_sevens]).view(-1, 28*28) \n",
        "torch.cat([stacked_threes, stacked_sevens]).shape, torch.cat([stacked_threes, stacked_sevens]).view(-1,28*28).shape\n",
        "## view(-1,28*28) converts from [12396,28,28] to [12396, 784 or (28*28)]"
      ]
    },
    {
      "cell_type": "code",
      "source": [
        "tensor([1]*len(threes) + [0]*len(sevens)).unsqueeze(0).shape #\n",
        "tensor([1]*len(threes) + [0]*len(sevens)).unsqueeze(1), tensor([1]*len(threes) + [0]*len(sevens)).unsqueeze(0)\n",
        "## testing unsqueeze, 1 means in second axis, or y axis, 0 means in x axis, here we need 1 i.e. y axis."
      ],
      "metadata": {
        "id": "WZegTeXeCjXQ",
        "outputId": "5e7859a1-a79b-43c3-afd8-aa5ff4f43421",
        "colab": {
          "base_uri": "https://localhost:8080/"
        }
      },
      "execution_count": 332,
      "outputs": [
        {
          "output_type": "execute_result",
          "data": {
            "text/plain": [
              "(tensor([[1],\n",
              "         [1],\n",
              "         [1],\n",
              "         ...,\n",
              "         [0],\n",
              "         [0],\n",
              "         [0]]), tensor([[1, 1, 1,  ..., 0, 0, 0]]))"
            ]
          },
          "metadata": {},
          "execution_count": 332
        }
      ]
    },
    {
      "cell_type": "code",
      "execution_count": 333,
      "metadata": {
        "id": "SK6ozSMyse6s",
        "outputId": "9fc8b2aa-67da-4c9a-db29-151fd05a9f53",
        "colab": {
          "base_uri": "https://localhost:8080/"
        }
      },
      "outputs": [
        {
          "output_type": "execute_result",
          "data": {
            "text/plain": [
              "tensor([[1],\n",
              "        [1],\n",
              "        [1],\n",
              "        ...,\n",
              "        [0],\n",
              "        [0],\n",
              "        [0]])"
            ]
          },
          "metadata": {},
          "execution_count": 333
        }
      ],
      "source": [
        "train_y = tensor([1]*len(threes) + [0]*len(sevens)).unsqueeze(1) #defining label \n",
        "# 1 is 3, 0 is seven. as we multiply by 1 by no. of 3s, and 0 by no. of 7s.\n",
        "train_x.shape,train_y.shape\n",
        "train_y"
      ]
    },
    {
      "cell_type": "code",
      "execution_count": 334,
      "metadata": {
        "id": "5EHcUvBZse6s",
        "outputId": "5ba55d08-492a-4898-ca09-e457b529c226",
        "colab": {
          "base_uri": "https://localhost:8080/"
        }
      },
      "outputs": [
        {
          "output_type": "execute_result",
          "data": {
            "text/plain": [
              "(torch.Size([784]), tensor([1]))"
            ]
          },
          "metadata": {},
          "execution_count": 334
        }
      ],
      "source": [
        "dset = list(zip(train_x,train_y))\n",
        "# Dataset in Pytorch needs to return a tuple of (x,y)\n",
        "# zip function returns a tuple of (x,y)\n",
        "x,y = dset[0] ## just checking first item in dataset, x-training, y is its label.\n",
        "x.shape,y #y is label"
      ]
    },
    {
      "cell_type": "code",
      "execution_count": 335,
      "metadata": {
        "id": "5XIjjTwQse6t"
      },
      "outputs": [],
      "source": [
        "valid_x = torch.cat([valid_3_tens, valid_7_tens]).view(-1, 28*28)\n",
        "valid_y = tensor([1]*len(valid_3_tens) + [0]*len(valid_7_tens)).unsqueeze(1)\n",
        "valid_dset = list(zip(valid_x,valid_y))"
      ]
    },
    {
      "cell_type": "code",
      "execution_count": 336,
      "metadata": {
        "id": "EEx9VQHcse6u"
      },
      "outputs": [],
      "source": [
        "def init_params(size, std=1.0): return (torch.randn(size)*std).requires_grad_()"
      ]
    },
    {
      "cell_type": "code",
      "execution_count": 337,
      "metadata": {
        "id": "trUUyHs8se6v"
      },
      "outputs": [],
      "source": [
        "weights = init_params( (28*28,1) )"
      ]
    },
    {
      "cell_type": "code",
      "execution_count": 338,
      "metadata": {
        "id": "wCN_vzyese6y"
      },
      "outputs": [],
      "source": [
        "bias = init_params(1)"
      ]
    },
    {
      "cell_type": "code",
      "source": [
        "(train_x[0]*weights).shape, (train_x[0]*weights.T).shape"
      ],
      "metadata": {
        "id": "Utkrrqv6D5gA",
        "outputId": "fd5c4624-c3d3-4a64-e2b9-b4dadd7a6cbb",
        "colab": {
          "base_uri": "https://localhost:8080/"
        }
      },
      "execution_count": 339,
      "outputs": [
        {
          "output_type": "execute_result",
          "data": {
            "text/plain": [
              "(torch.Size([784, 784]), torch.Size([1, 784]))"
            ]
          },
          "metadata": {},
          "execution_count": 339
        }
      ]
    },
    {
      "cell_type": "code",
      "execution_count": 340,
      "metadata": {
        "id": "LUJv0Dvbse63",
        "outputId": "9ee246b9-0e4b-4e90-8207-9979d5516ea4",
        "colab": {
          "base_uri": "https://localhost:8080/"
        }
      },
      "outputs": [
        {
          "output_type": "execute_result",
          "data": {
            "text/plain": [
              "tensor([2.2398], grad_fn=<AddBackward0>)"
            ]
          },
          "metadata": {},
          "execution_count": 340
        }
      ],
      "source": [
        "(train_x[0]*weights.T).sum() + bias"
      ]
    },
    {
      "cell_type": "code",
      "execution_count": 341,
      "metadata": {
        "id": "Z6NvJZU3se64",
        "outputId": "158ce1b2-e2fa-416d-d261-0c0eaf650ea7",
        "colab": {
          "base_uri": "https://localhost:8080/"
        }
      },
      "outputs": [
        {
          "output_type": "execute_result",
          "data": {
            "text/plain": [
              "tensor([[ 2.2398],\n",
              "        [ 7.0541],\n",
              "        [-2.3737],\n",
              "        ...,\n",
              "        [12.3111],\n",
              "        [14.7682],\n",
              "        [ 8.9666]], grad_fn=<AddBackward0>)"
            ]
          },
          "metadata": {},
          "execution_count": 341
        }
      ],
      "source": [
        "def linear1(xb): return xb@weights + bias\n",
        "preds = linear1(train_x)\n",
        "preds"
      ]
    },
    {
      "cell_type": "code",
      "source": [
        "predArr = (preds>0.0).float() \n",
        "predArr == train_y\n",
        "train_y"
      ],
      "metadata": {
        "id": "KQQQDL8iHGVy",
        "outputId": "f48ede29-4648-4ec8-a091-42997db43f1b",
        "colab": {
          "base_uri": "https://localhost:8080/"
        }
      },
      "execution_count": 342,
      "outputs": [
        {
          "output_type": "execute_result",
          "data": {
            "text/plain": [
              "tensor([[1],\n",
              "        [1],\n",
              "        [1],\n",
              "        ...,\n",
              "        [0],\n",
              "        [0],\n",
              "        [0]])"
            ]
          },
          "metadata": {},
          "execution_count": 342
        }
      ]
    },
    {
      "cell_type": "code",
      "execution_count": 343,
      "metadata": {
        "id": "a6kwrFouse64",
        "outputId": "a13508c8-1b08-4a60-ede1-2351895ee2cf",
        "colab": {
          "base_uri": "https://localhost:8080/"
        }
      },
      "outputs": [
        {
          "output_type": "execute_result",
          "data": {
            "text/plain": [
              "tensor([[ True],\n",
              "        [ True],\n",
              "        [False],\n",
              "        ...,\n",
              "        [False],\n",
              "        [False],\n",
              "        [False]])"
            ]
          },
          "metadata": {},
          "execution_count": 343
        }
      ],
      "source": [
        "corrects = ((preds>0.0).float()) == train_y\n",
        "# eg. preds is 21 or -9, \n",
        "# (preds>0.0).float() == train_y #compare w/ zero\n",
        "# (true).float() == train_y #turn boolean to number\n",
        "# 1.0 == train_y #train_y is 0 or 1.\n",
        "corrects"
      ]
    },
    {
      "cell_type": "code",
      "execution_count": 344,
      "metadata": {
        "id": "s74ikqQ9se64",
        "outputId": "20f8dc7b-9f0b-4685-c761-debcba27d861",
        "colab": {
          "base_uri": "https://localhost:8080/"
        }
      },
      "outputs": [
        {
          "output_type": "execute_result",
          "data": {
            "text/plain": [
              "0.461197167634964"
            ]
          },
          "metadata": {},
          "execution_count": 344
        }
      ],
      "source": [
        "corrects.float().mean().item()"
      ]
    },
    {
      "cell_type": "code",
      "execution_count": 345,
      "metadata": {
        "id": "VB8kjfn_se64"
      },
      "outputs": [],
      "source": [
        "with torch.no_grad(): weights[0] *= 1.0001 ## no_grad(), don't calculate gradient for this step"
      ]
    },
    {
      "cell_type": "code",
      "execution_count": 346,
      "metadata": {
        "id": "4jEWWy0gse65",
        "outputId": "57d37839-919e-4a86-f3f7-c7976b1f182a",
        "colab": {
          "base_uri": "https://localhost:8080/"
        }
      },
      "outputs": [
        {
          "output_type": "execute_result",
          "data": {
            "text/plain": [
              "0.461197167634964"
            ]
          },
          "metadata": {},
          "execution_count": 346
        }
      ],
      "source": [
        "preds = linear1(train_x)\n",
        "((preds>0.0).float() == train_y).float().mean().item()\n",
        "## we changed a single weight and calculated accuracy, but its almost the as before.\n",
        "## using accuracy doesn't work to step weights, so we need a different loss fn.\n",
        "## using accuracy as loss fn, (y_new - y_old) will almost always be 0. In other words, the gradient is 0 almost everywhere."
      ]
    },
    {
      "cell_type": "markdown",
      "metadata": {
        "id": "lkksyGTpse65"
      },
      "source": [
        "**finding a loss function**\n",
        "we need a loss function which, when our weights result in slightly better predictions, gives us a slightly better loss. So what does a \"slightly better prediction\" look like, exactly? Well, in this case, it means that if the correct answer is a 3 the score is a little higher, or if the correct answer is a 7 the score is a little lower."
      ]
    },
    {
      "cell_type": "code",
      "execution_count": 347,
      "metadata": {
        "id": "0TmS_-7Vse66"
      },
      "outputs": [],
      "source": [
        "#sample_inputs.\n",
        "trgts  = tensor([1,0,1])\n",
        "prds   = tensor([0.9, 0.4, 0.2])"
      ]
    },
    {
      "cell_type": "code",
      "execution_count": 348,
      "metadata": {
        "id": "WkxPjVbyse66"
      },
      "outputs": [],
      "source": [
        "def mnist_loss(predictions, targets):\n",
        "    return torch.where(targets==1, 1-predictions, predictions).mean()"
      ]
    },
    {
      "cell_type": "code",
      "execution_count": 349,
      "metadata": {
        "id": "iWdX45dMse66",
        "outputId": "2415bb53-c7ad-44d7-95e7-4af4657230ec",
        "colab": {
          "base_uri": "https://localhost:8080/"
        }
      },
      "outputs": [
        {
          "output_type": "execute_result",
          "data": {
            "text/plain": [
              "tensor([0.1000, 0.4000, 0.8000])"
            ]
          },
          "metadata": {},
          "execution_count": 349
        }
      ],
      "source": [
        "torch.where(trgts==1, 1-prds, prds)"
      ]
    },
    {
      "cell_type": "code",
      "execution_count": 350,
      "metadata": {
        "id": "1Adrc1qGse67",
        "outputId": "9cded2d9-4acc-4219-8cc5-8ddb6a2022db",
        "colab": {
          "base_uri": "https://localhost:8080/"
        }
      },
      "outputs": [
        {
          "output_type": "execute_result",
          "data": {
            "text/plain": [
              "tensor(0.4333)"
            ]
          },
          "metadata": {},
          "execution_count": 350
        }
      ],
      "source": [
        "mnist_loss(prds,trgts)"
      ]
    },
    {
      "cell_type": "code",
      "execution_count": 351,
      "metadata": {
        "id": "AIWVWRZZse67",
        "outputId": "812b25f7-b32c-4f70-f445-d1190b4ae9cd",
        "colab": {
          "base_uri": "https://localhost:8080/"
        }
      },
      "outputs": [
        {
          "output_type": "execute_result",
          "data": {
            "text/plain": [
              "tensor(0.2333)"
            ]
          },
          "metadata": {},
          "execution_count": 351
        }
      ],
      "source": [
        "mnist_loss(tensor([0.9, 0.4, 0.8]),trgts) #with a different prediction, decreased loss"
      ]
    },
    {
      "cell_type": "markdown",
      "metadata": {
        "id": "Kb3pZ_K1se67"
      },
      "source": [
        "### Sigmoid"
      ]
    },
    {
      "cell_type": "code",
      "execution_count": 352,
      "metadata": {
        "id": "ZwbM3QrSse68"
      },
      "outputs": [],
      "source": [
        "# signmoid fn always outputs a no. between 0 and 1.\n",
        "def sigmoid(x): return 1/(1+torch.exp(-x))"
      ]
    },
    {
      "cell_type": "code",
      "execution_count": 353,
      "metadata": {
        "id": "xI7E27Mase68",
        "outputId": "b4486f49-e560-4750-bbd5-c45b828d1b6a",
        "colab": {
          "base_uri": "https://localhost:8080/",
          "height": 285
        }
      },
      "outputs": [
        {
          "output_type": "display_data",
          "data": {
            "text/plain": [
              "<Figure size 432x288 with 1 Axes>"
            ],
            "image/png": "[encoded data removed]"
          },
          "metadata": {
            "needs_background": "light"
          }
        }
      ],
      "source": [
        "plot_function(torch.sigmoid, title='Sigmoid', min=-4, max=4)\n",
        "#pytorch version of sigmoid fn, faster."
      ]
    },
    {
      "cell_type": "code",
      "execution_count": 354,
      "metadata": {
        "id": "uR7syozHse68"
      },
      "outputs": [],
      "source": [
        "def mnist_loss(predictions, targets):\n",
        "    predictions = predictions.sigmoid() #applying sigmoid to predictions.\n",
        "    ## 0,1 range is required to use with 0,1 label system.\n",
        "    return torch.where(targets==1, 1-predictions, predictions).mean()"
      ]
    },
    {
      "cell_type": "markdown",
      "metadata": {
        "id": "5LqQx9Zbse69"
      },
      "source": [
        "### SGD and Mini-Batches"
      ]
    },
    {
      "cell_type": "code",
      "execution_count": 355,
      "metadata": {
        "id": "ppvDQ3IXse69",
        "outputId": "f10ab1a5-026c-44e5-a46d-6c74fd560bfb",
        "colab": {
          "base_uri": "https://localhost:8080/"
        }
      },
      "outputs": [
        {
          "output_type": "execute_result",
          "data": {
            "text/plain": [
              "[tensor([ 1,  8, 13,  4,  3]),\n",
              " tensor([14,  5, 11,  6,  9]),\n",
              " tensor([10,  0,  7,  2, 12])]"
            ]
          },
          "metadata": {},
          "execution_count": 355
        }
      ],
      "source": [
        "coll = range(15)\n",
        "dl = DataLoader(coll, batch_size=5, shuffle=True)\n",
        "list(dl) #takes a collection and turn it to mini batches."
      ]
    },
    {
      "cell_type": "code",
      "execution_count": 356,
      "metadata": {
        "id": "n6f6zSGMse6-",
        "outputId": "a3772197-6884-41a7-d296-07e84a3c1afc",
        "colab": {
          "base_uri": "https://localhost:8080/"
        }
      },
      "outputs": [
        {
          "output_type": "execute_result",
          "data": {
            "text/plain": [
              "(#26) [(0, 'a'),(1, 'b'),(2, 'c'),(3, 'd'),(4, 'e'),(5, 'f'),(6, 'g'),(7, 'h'),(8, 'i'),(9, 'j')...]"
            ]
          },
          "metadata": {},
          "execution_count": 356
        }
      ],
      "source": [
        "## a pytorch DataSet requires a list of tuples, eg. (1,2),(2,3).\n",
        "ds = L(enumerate(string.ascii_lowercase)) ## a basic eg of list of tuples.\n",
        "ds"
      ]
    },
    {
      "cell_type": "code",
      "execution_count": 357,
      "metadata": {
        "id": "ftBOowKDse7B",
        "outputId": "f8a48277-97bd-42e6-a12e-8721005a43b5",
        "colab": {
          "base_uri": "https://localhost:8080/"
        }
      },
      "outputs": [
        {
          "output_type": "execute_result",
          "data": {
            "text/plain": [
              "[(tensor([ 0, 15,  8, 11, 22, 19]), ('a', 'p', 'i', 'l', 'w', 't')),\n",
              " (tensor([ 7,  6,  2,  1, 10,  5]), ('h', 'g', 'c', 'b', 'k', 'f')),\n",
              " (tensor([25,  3,  9, 18, 14, 20]), ('z', 'd', 'j', 's', 'o', 'u')),\n",
              " (tensor([13, 16, 24, 21, 17, 23]), ('n', 'q', 'y', 'v', 'r', 'x')),\n",
              " (tensor([ 4, 12]), ('e', 'm'))]"
            ]
          },
          "metadata": {},
          "execution_count": 357
        }
      ],
      "source": [
        "dl = DataLoader(ds, batch_size=6, shuffle=True)\n",
        "## a DataLoader creates mini-batches.\n",
        "list(dl)"
      ]
    },
    {
      "cell_type": "markdown",
      "metadata": {
        "id": "bB5xXfZXse7D"
      },
      "source": [
        "## Putting It All Together"
      ]
    },
    {
      "cell_type": "code",
      "execution_count": 358,
      "metadata": {
        "id": "hx0AgHPCse7E"
      },
      "outputs": [],
      "source": [
        "weights = init_params((28*28,1))\n",
        "bias = init_params(1)"
      ]
    },
    {
      "cell_type": "code",
      "execution_count": 359,
      "metadata": {
        "id": "O0W8yCIese7G",
        "outputId": "8324e11c-bbaa-48cf-a8a1-ce5fec8b0530",
        "colab": {
          "base_uri": "https://localhost:8080/"
        }
      },
      "outputs": [
        {
          "output_type": "execute_result",
          "data": {
            "text/plain": [
              "(torch.Size([256, 784]), torch.Size([256, 1]))"
            ]
          },
          "metadata": {},
          "execution_count": 359
        }
      ],
      "source": [
        "dl = DataLoader(dset, batch_size=256)\n",
        "xb,yb = first(dl)\n",
        "xb.shape,yb.shape"
      ]
    },
    {
      "cell_type": "code",
      "execution_count": 360,
      "metadata": {
        "id": "Ag86eL6Ase7G"
      },
      "outputs": [],
      "source": [
        "valid_dl = DataLoader(valid_dset, batch_size=256)"
      ]
    },
    {
      "cell_type": "code",
      "execution_count": 361,
      "metadata": {
        "id": "bBkWMiyvse7H",
        "outputId": "7bb9f0b9-f30e-4567-f100-ae563d1f2f25",
        "colab": {
          "base_uri": "https://localhost:8080/"
        }
      },
      "outputs": [
        {
          "output_type": "execute_result",
          "data": {
            "text/plain": [
              "torch.Size([4, 784])"
            ]
          },
          "metadata": {},
          "execution_count": 361
        }
      ],
      "source": [
        "batch = train_x[:4] ## manually making a batch, selecting 4 items \n",
        "batch.shape"
      ]
    },
    {
      "cell_type": "code",
      "execution_count": 362,
      "metadata": {
        "id": "glX0ke-2se7J",
        "outputId": "ccbb3e8d-fbc1-4a49-c4ec-70e9320a9ef6",
        "colab": {
          "base_uri": "https://localhost:8080/"
        }
      },
      "outputs": [
        {
          "output_type": "execute_result",
          "data": {
            "text/plain": [
              "tensor([[ 1.8982],\n",
              "        [ 3.5337],\n",
              "        [ 0.8146],\n",
              "        [14.0227]], grad_fn=<AddBackward0>)"
            ]
          },
          "metadata": {},
          "execution_count": 362
        }
      ],
      "source": [
        "preds = linear1(batch)\n",
        "preds"
      ]
    },
    {
      "cell_type": "code",
      "execution_count": 363,
      "metadata": {
        "id": "fXJEheF2se7K",
        "outputId": "620e10b5-69ec-4e95-d803-a3a1c9097fbf",
        "colab": {
          "base_uri": "https://localhost:8080/"
        }
      },
      "outputs": [
        {
          "output_type": "execute_result",
          "data": {
            "text/plain": [
              "tensor(0.1164, grad_fn=<MeanBackward0>)"
            ]
          },
          "metadata": {},
          "execution_count": 363
        }
      ],
      "source": [
        "loss = mnist_loss(preds, train_y[:4])\n",
        "loss"
      ]
    },
    {
      "cell_type": "code",
      "execution_count": 364,
      "metadata": {
        "id": "tM6aLRRzse7L",
        "outputId": "3796ac66-7a26-407d-f652-810d5abd3286",
        "colab": {
          "base_uri": "https://localhost:8080/"
        }
      },
      "outputs": [
        {
          "output_type": "execute_result",
          "data": {
            "text/plain": [
              "(torch.Size([784, 1]), tensor(-0.0127), tensor([-0.0884]))"
            ]
          },
          "metadata": {},
          "execution_count": 364
        }
      ],
      "source": [
        "loss.backward()\n",
        "weights.grad.shape,weights.grad.mean(),bias.grad\n",
        "#see indepth "
      ]
    },
    {
      "cell_type": "code",
      "execution_count": 365,
      "metadata": {
        "id": "DlIIuvgqse7M"
      },
      "outputs": [],
      "source": [
        "def calc_grad(xb, yb, model):\n",
        "    preds = model(xb)\n",
        "    loss = mnist_loss(preds, yb)\n",
        "    loss.backward()"
      ]
    },
    {
      "cell_type": "code",
      "execution_count": 366,
      "metadata": {
        "id": "2TmLSMAMse7N",
        "outputId": "1508f1a6-d390-4bc1-ce9c-2cc9086a3af4",
        "colab": {
          "base_uri": "https://localhost:8080/"
        }
      },
      "outputs": [
        {
          "output_type": "execute_result",
          "data": {
            "text/plain": [
              "(tensor(-0.0253), tensor([-0.1768]))"
            ]
          },
          "metadata": {},
          "execution_count": 366
        }
      ],
      "source": [
        "calc_grad(batch, train_y[:4], linear1)\n",
        "weights.grad.mean(),bias.grad ## calling gradients once"
      ]
    },
    {
      "cell_type": "code",
      "execution_count": 367,
      "metadata": {
        "id": "mH2bsyRQse7N",
        "outputId": "b34248bb-23b6-4882-ccc0-450d22357d7f",
        "colab": {
          "base_uri": "https://localhost:8080/"
        }
      },
      "outputs": [
        {
          "output_type": "execute_result",
          "data": {
            "text/plain": [
              "(tensor(-0.0380), tensor([-0.2652]))"
            ]
          },
          "metadata": {},
          "execution_count": 367
        }
      ],
      "source": [
        "calc_grad(batch, train_y[:4], linear1)\n",
        "weights.grad.mean(),bias.grad\n",
        "## calling gradients again adds to the old one, so need to do weights.grad.zero_()"
      ]
    },
    {
      "cell_type": "code",
      "execution_count": 368,
      "metadata": {
        "id": "Cj94t-DGse7O"
      },
      "outputs": [],
      "source": [
        "weights.grad.zero_()\n",
        "bias.grad.zero_();"
      ]
    },
    {
      "cell_type": "code",
      "execution_count": 369,
      "metadata": {
        "id": "ycqSiynXse7O"
      },
      "outputs": [],
      "source": [
        "def train_epoch(model, lr, params):\n",
        "    for xb,yb in dl:\n",
        "        calc_grad(xb, yb, model)\n",
        "        for p in params:\n",
        "            p.data -= p.grad*lr\n",
        "            p.grad.zero_()"
      ]
    },
    {
      "cell_type": "code",
      "execution_count": 370,
      "metadata": {
        "id": "KRmA0b5hse7P",
        "outputId": "ba4ec7d5-c8ef-44a5-b53b-50a39a9750b0",
        "colab": {
          "base_uri": "https://localhost:8080/"
        }
      },
      "outputs": [
        {
          "output_type": "execute_result",
          "data": {
            "text/plain": [
              "tensor([[True],\n",
              "        [True],\n",
              "        [True],\n",
              "        [True]])"
            ]
          },
          "metadata": {},
          "execution_count": 370
        }
      ],
      "source": [
        "(preds>0.0).float() == train_y[:4] ## checking accuracy"
      ]
    },
    {
      "cell_type": "code",
      "execution_count": 371,
      "metadata": {
        "id": "ovTImaS7se7P"
      },
      "outputs": [],
      "source": [
        "def batch_accuracy(xb, yb):\n",
        "    preds = xb.sigmoid()\n",
        "    correct = (preds>0.5) == yb\n",
        "    return correct.float().mean()"
      ]
    },
    {
      "cell_type": "code",
      "execution_count": 372,
      "metadata": {
        "id": "xKUQVlUkse7P",
        "outputId": "30ce4399-8c9c-4753-ea97-284823ccc1b4",
        "colab": {
          "base_uri": "https://localhost:8080/"
        }
      },
      "outputs": [
        {
          "output_type": "execute_result",
          "data": {
            "text/plain": [
              "tensor(1.)"
            ]
          },
          "metadata": {},
          "execution_count": 372
        }
      ],
      "source": [
        "batch_accuracy(linear1(batch), train_y[:4])"
      ]
    },
    {
      "cell_type": "code",
      "execution_count": 373,
      "metadata": {
        "id": "FlZujINJse7Q"
      },
      "outputs": [],
      "source": [
        "def validate_epoch(model):\n",
        "    accs = [batch_accuracy(model(xb), yb) for xb,yb in valid_dl]\n",
        "    # accs is a list of batch accuracies tensor.\n",
        "    return round(torch.stack(accs).mean().item(), 4) #round to 4."
      ]
    },
    {
      "cell_type": "code",
      "execution_count": 374,
      "metadata": {
        "id": "2P_4WI48se7Q",
        "outputId": "944d7a08-07ef-4e18-ec6e-a3779e071a01",
        "colab": {
          "base_uri": "https://localhost:8080/"
        }
      },
      "outputs": [
        {
          "output_type": "execute_result",
          "data": {
            "text/plain": [
              "0.7453"
            ]
          },
          "metadata": {},
          "execution_count": 374
        }
      ],
      "source": [
        "validate_epoch(linear1)"
      ]
    },
    {
      "cell_type": "code",
      "execution_count": 375,
      "metadata": {
        "id": "hziFkwUDse7X",
        "outputId": "12038e06-b6d9-4197-e279-321732bb0c92",
        "colab": {
          "base_uri": "https://localhost:8080/"
        }
      },
      "outputs": [
        {
          "output_type": "execute_result",
          "data": {
            "text/plain": [
              "0.7138"
            ]
          },
          "metadata": {},
          "execution_count": 375
        }
      ],
      "source": [
        "lr = 1.\n",
        "params = weights,bias\n",
        "train_epoch(linear1, lr, params)\n",
        "validate_epoch(linear1)"
      ]
    },
    {
      "cell_type": "code",
      "source": [
        "test1=[xb,yb in valid_dl]\n",
        "test1"
      ],
      "metadata": {
        "id": "9w8k6ByHajAK",
        "outputId": "ecf76d91-de40-4832-96b7-aa7f1a210261",
        "colab": {
          "base_uri": "https://localhost:8080/"
        }
      },
      "execution_count": 376,
      "outputs": [
        {
          "output_type": "execute_result",
          "data": {
            "text/plain": [
              "[tensor([[0., 0., 0.,  ..., 0., 0., 0.],\n",
              "         [0., 0., 0.,  ..., 0., 0., 0.],\n",
              "         [0., 0., 0.,  ..., 0., 0., 0.],\n",
              "         ...,\n",
              "         [0., 0., 0.,  ..., 0., 0., 0.],\n",
              "         [0., 0., 0.,  ..., 0., 0., 0.],\n",
              "         [0., 0., 0.,  ..., 0., 0., 0.]]), False]"
            ]
          },
          "metadata": {},
          "execution_count": 376
        }
      ]
    },
    {
      "cell_type": "code",
      "execution_count": 377,
      "metadata": {
        "id": "-D_S0sILse7Z",
        "outputId": "d7200ebf-1793-462f-f0c1-54084ba93438",
        "colab": {
          "base_uri": "https://localhost:8080/"
        }
      },
      "outputs": [
        {
          "output_type": "stream",
          "name": "stdout",
          "text": [
            "0.8583 0.9076 0.931 0.9423 0.9462 0.9525 0.9594 0.9613 0.9618 0.9647 0.9662 0.9667 0.9677 0.9691 0.9691 0.9701 0.9701 0.9701 0.9706 0.9701 "
          ]
        }
      ],
      "source": [
        "for i in range(20):\n",
        "    train_epoch(linear1, lr, params)\n",
        "    print(validate_epoch(linear1), end=' ')"
      ]
    },
    {
      "cell_type": "markdown",
      "metadata": {
        "id": "WQF3AtPkse7b"
      },
      "source": [
        "### Creating an Optimizer"
      ]
    },
    {
      "cell_type": "code",
      "execution_count": 378,
      "metadata": {
        "id": "n2Er7ejzse7c"
      },
      "outputs": [],
      "source": [
        "linear_model = nn.Linear(28*28,1)"
      ]
    },
    {
      "cell_type": "code",
      "execution_count": 379,
      "metadata": {
        "id": "72kXOVZPse7d",
        "outputId": "1d635145-acba-431f-bcd7-361db34e94ab",
        "colab": {
          "base_uri": "https://localhost:8080/"
        }
      },
      "outputs": [
        {
          "output_type": "execute_result",
          "data": {
            "text/plain": [
              "(torch.Size([1, 784]), torch.Size([1]))"
            ]
          },
          "metadata": {},
          "execution_count": 379
        }
      ],
      "source": [
        "w,b = linear_model.parameters() ## nn.Linear gives parameters() fn to get parameters.\n",
        "w.shape,b.shape"
      ]
    },
    {
      "cell_type": "code",
      "execution_count": 387,
      "metadata": {
        "id": "VQIq_Tkdse7d"
      },
      "outputs": [],
      "source": [
        "## creating a custom BasicOptim class to do the step part of the process. \n",
        "class BasicOptim:\n",
        "    def __init__(self,params,lr): self.params,self.lr = list(params),lr ## takes params and lr as arguments\n",
        "\n",
        "    def step(self, *args, **kwargs):\n",
        "        for p in self.params: p.data -= p.grad.data * self.lr ## step fn\n",
        "\n",
        "    def zero_grad(self, *args, **kwargs): ## set grad to none/zero to clear old grad.\n",
        "        for p in self.params: p.grad = None"
      ]
    },
    {
      "cell_type": "code",
      "execution_count": 381,
      "metadata": {
        "id": "zk1nNOBNse7e"
      },
      "outputs": [],
      "source": [
        "opt = BasicOptim(linear_model.parameters(), lr)"
      ]
    },
    {
      "cell_type": "code",
      "execution_count": 382,
      "metadata": {
        "id": "kZd74L2jse7e"
      },
      "outputs": [],
      "source": [
        "def train_epoch(model):\n",
        "    for xb,yb in dl:\n",
        "        calc_grad(xb, yb, model)\n",
        "        opt.step()\n",
        "        opt.zero_grad()"
      ]
    },
    {
      "cell_type": "code",
      "execution_count": 383,
      "metadata": {
        "id": "y0mkd5eese7e",
        "outputId": "86d4e47a-c0f2-4396-cbac-55a495efb3df",
        "colab": {
          "base_uri": "https://localhost:8080/"
        }
      },
      "outputs": [
        {
          "output_type": "execute_result",
          "data": {
            "text/plain": [
              "0.5321"
            ]
          },
          "metadata": {},
          "execution_count": 383
        }
      ],
      "source": [
        "validate_epoch(linear_model)"
      ]
    },
    {
      "cell_type": "code",
      "execution_count": 384,
      "metadata": {
        "id": "fpk5VZZIse7f"
      },
      "outputs": [],
      "source": [
        "def train_model(model, epochs):\n",
        "    for i in range(epochs):\n",
        "        train_epoch(model)\n",
        "        print(validate_epoch(model), end=' ')"
      ]
    },
    {
      "cell_type": "code",
      "execution_count": 385,
      "metadata": {
        "id": "6iEMXYkMse7f",
        "outputId": "7d7d32b4-cc5a-4f94-d86a-b76281686c41",
        "colab": {
          "base_uri": "https://localhost:8080/"
        }
      },
      "outputs": [
        {
          "output_type": "stream",
          "name": "stdout",
          "text": [
            "0.4932 0.7768 0.8564 0.917 0.936 0.9502 0.9575 0.9629 0.9663 0.9677 0.9697 0.9716 0.9736 0.9746 0.976 0.977 0.9775 0.9775 0.9785 0.9785 "
          ]
        }
      ],
      "source": [
        "train_model(linear_model, 20)"
      ]
    },
    {
      "cell_type": "code",
      "execution_count": 386,
      "metadata": {
        "id": "ui_vgz4_se7g",
        "outputId": "e8425527-8699-4db3-a8e7-b4e9e15635c9",
        "colab": {
          "base_uri": "https://localhost:8080/"
        }
      },
      "outputs": [
        {
          "output_type": "stream",
          "name": "stdout",
          "text": [
            "0.4932 0.8476 0.8369 0.9116 0.934 0.9453 0.9555 0.9614 0.9653 0.9677 0.9687 0.9716 0.9731 0.9746 0.976 0.976 0.9775 0.9785 0.9785 0.979 "
          ]
        }
      ],
      "source": [
        "linear_model = nn.Linear(28*28,1)\n",
        "opt = SGD(linear_model.parameters(), lr)\n",
        "train_model(linear_model, 20)"
      ]
    },
    {
      "cell_type": "code",
      "execution_count": 388,
      "metadata": {
        "id": "F-jz8B28se7g"
      },
      "outputs": [],
      "source": [
        "dls = DataLoaders(dl, valid_dl)"
      ]
    },
    {
      "cell_type": "code",
      "execution_count": 389,
      "metadata": {
        "id": "gH4KbSAOse7h"
      },
      "outputs": [],
      "source": [
        "learn = Learner(dls, nn.Linear(28*28,1), opt_func=SGD,\n",
        "                loss_func=mnist_loss, metrics=batch_accuracy)"
      ]
    },
    {
      "cell_type": "code",
      "execution_count": 390,
      "metadata": {
        "id": "VXjJPdYAse7h",
        "outputId": "29a7b305-1faa-4671-de7b-a7e2116dc99c",
        "colab": {
          "base_uri": "https://localhost:8080/",
          "height": 363
        }
      },
      "outputs": [
        {
          "output_type": "display_data",
          "data": {
            "text/plain": [
              "<IPython.core.display.HTML object>"
            ],
            "text/html": [
              "\n",
              "<style>\n",
              "    /* Turns off some styling */\n",
              "    progress {\n",
              "        /* gets rid of default border in Firefox and Opera. */\n",
              "        border: none;\n",
              "        /* Needs to be in here for Safari polyfill so background images work as expected. */\n",
              "        background-size: auto;\n",
              "    }\n",
              "    progress:not([value]), progress:not([value])::-webkit-progress-bar {\n",
              "        background: repeating-linear-gradient(45deg, #7e7e7e, #7e7e7e 10px, #5c5c5c 10px, #5c5c5c 20px);\n",
              "    }\n",
              "    .progress-bar-interrupted, .progress-bar-interrupted::-webkit-progress-bar {\n",
              "        background: #F44336;\n",
              "    }\n",
              "</style>\n"
            ]
          },
          "metadata": {}
        },
        {
          "output_type": "display_data",
          "data": {
            "text/plain": [
              "<IPython.core.display.HTML object>"
            ],
            "text/html": [
              "<table border=\"1\" class=\"dataframe\">\n",
              "  <thead>\n",
              "    <tr style=\"text-align: left;\">\n",
              "      <th>epoch</th>\n",
              "      <th>train_loss</th>\n",
              "      <th>valid_loss</th>\n",
              "      <th>batch_accuracy</th>\n",
              "      <th>time</th>\n",
              "    </tr>\n",
              "  </thead>\n",
              "  <tbody>\n",
              "    <tr>\n",
              "      <td>0</td>\n",
              "      <td>0.637458</td>\n",
              "      <td>0.503642</td>\n",
              "      <td>0.495584</td>\n",
              "      <td>00:00</td>\n",
              "    </tr>\n",
              "    <tr>\n",
              "      <td>1</td>\n",
              "      <td>0.601436</td>\n",
              "      <td>0.110731</td>\n",
              "      <td>0.928361</td>\n",
              "      <td>00:00</td>\n",
              "    </tr>\n",
              "    <tr>\n",
              "      <td>2</td>\n",
              "      <td>0.217298</td>\n",
              "      <td>0.230247</td>\n",
              "      <td>0.781649</td>\n",
              "      <td>00:00</td>\n",
              "    </tr>\n",
              "    <tr>\n",
              "      <td>3</td>\n",
              "      <td>0.093717</td>\n",
              "      <td>0.118839</td>\n",
              "      <td>0.901374</td>\n",
              "      <td>00:00</td>\n",
              "    </tr>\n",
              "    <tr>\n",
              "      <td>4</td>\n",
              "      <td>0.048101</td>\n",
              "      <td>0.083309</td>\n",
              "      <td>0.929833</td>\n",
              "      <td>00:00</td>\n",
              "    </tr>\n",
              "    <tr>\n",
              "      <td>5</td>\n",
              "      <td>0.030366</td>\n",
              "      <td>0.065571</td>\n",
              "      <td>0.943572</td>\n",
              "      <td>00:00</td>\n",
              "    </tr>\n",
              "    <tr>\n",
              "      <td>6</td>\n",
              "      <td>0.023116</td>\n",
              "      <td>0.054816</td>\n",
              "      <td>0.955839</td>\n",
              "      <td>00:00</td>\n",
              "    </tr>\n",
              "    <tr>\n",
              "      <td>7</td>\n",
              "      <td>0.019944</td>\n",
              "      <td>0.047749</td>\n",
              "      <td>0.961236</td>\n",
              "      <td>00:00</td>\n",
              "    </tr>\n",
              "    <tr>\n",
              "      <td>8</td>\n",
              "      <td>0.018381</td>\n",
              "      <td>0.042843</td>\n",
              "      <td>0.965162</td>\n",
              "      <td>00:00</td>\n",
              "    </tr>\n",
              "    <tr>\n",
              "      <td>9</td>\n",
              "      <td>0.017476</td>\n",
              "      <td>0.039270</td>\n",
              "      <td>0.967125</td>\n",
              "      <td>00:00</td>\n",
              "    </tr>\n",
              "  </tbody>\n",
              "</table>"
            ]
          },
          "metadata": {}
        }
      ],
      "source": [
        "learn.fit(10, lr=lr)"
      ]
    },
    {
      "cell_type": "markdown",
      "metadata": {
        "id": "XY8l655sse7i"
      },
      "source": [
        "## Adding a Nonlinearity"
      ]
    },
    {
      "cell_type": "code",
      "execution_count": 391,
      "metadata": {
        "id": "N1riJMsVse7i"
      },
      "outputs": [],
      "source": [
        "## if no non-linearity between two layers, same as having one layer with more parameters.\n",
        "def simple_net(xb): \n",
        "    res = xb@w1 + b1 ## layer1\n",
        "    res = res.max(tensor(0.0)) ## adding ReLU or non-linearity\n",
        "    ## changes no. below 0 to 0.\n",
        "    res = res@w2 + b2 ## layer2\n",
        "    return res"
      ]
    },
    {
      "cell_type": "code",
      "execution_count": 400,
      "metadata": {
        "id": "a-kcF5pAse7i"
      },
      "outputs": [],
      "source": [
        "w1 = init_params((28*28,30))\n",
        "b1 = init_params(30)\n",
        "w2 = init_params((30,1))\n",
        "b2 = init_params(1)"
      ]
    },
    {
      "cell_type": "code",
      "execution_count": 401,
      "metadata": {
        "id": "3sEFtIsnse7j",
        "outputId": "aa99e600-6b72-4900-e421-653fc3cecb95",
        "colab": {
          "base_uri": "https://localhost:8080/",
          "height": 268
        }
      },
      "outputs": [
        {
          "output_type": "display_data",
          "data": {
            "text/plain": [
              "<Figure size 432x288 with 1 Axes>"
            ],
            "image/png": "[encoded data removed]"
          },
          "metadata": {
            "needs_background": "light"
          }
        }
      ],
      "source": [
        "plot_function(F.relu)"
      ]
    },
    {
      "cell_type": "code",
      "execution_count": 394,
      "metadata": {
        "id": "9stV0J01se7j"
      },
      "outputs": [],
      "source": [
        "simple_net = nn.Sequential(\n",
        "    nn.Linear(28*28,30),\n",
        "    nn.ReLU(),\n",
        "    nn.Linear(30,1)\n",
        ")"
      ]
    },
    {
      "cell_type": "code",
      "execution_count": 395,
      "metadata": {
        "id": "DEDpmTWUse7k"
      },
      "outputs": [],
      "source": [
        "learn = Learner(dls, simple_net, opt_func=SGD,\n",
        "                loss_func=mnist_loss, metrics=batch_accuracy)"
      ]
    },
    {
      "cell_type": "code",
      "execution_count": 396,
      "metadata": {
        "id": "GE_IbSQBse7k",
        "outputId": "ae5386ae-723d-4e6c-cb3a-faa80b100d18",
        "colab": {
          "base_uri": "https://localhost:8080/",
          "height": 1000
        }
      },
      "outputs": [
        {
          "output_type": "display_data",
          "data": {
            "text/plain": [
              "<IPython.core.display.HTML object>"
            ],
            "text/html": [
              "\n",
              "<style>\n",
              "    /* Turns off some styling */\n",
              "    progress {\n",
              "        /* gets rid of default border in Firefox and Opera. */\n",
              "        border: none;\n",
              "        /* Needs to be in here for Safari polyfill so background images work as expected. */\n",
              "        background-size: auto;\n",
              "    }\n",
              "    progress:not([value]), progress:not([value])::-webkit-progress-bar {\n",
              "        background: repeating-linear-gradient(45deg, #7e7e7e, #7e7e7e 10px, #5c5c5c 10px, #5c5c5c 20px);\n",
              "    }\n",
              "    .progress-bar-interrupted, .progress-bar-interrupted::-webkit-progress-bar {\n",
              "        background: #F44336;\n",
              "    }\n",
              "</style>\n"
            ]
          },
          "metadata": {}
        },
        {
          "output_type": "display_data",
          "data": {
            "text/plain": [
              "<IPython.core.display.HTML object>"
            ],
            "text/html": [
              "<table border=\"1\" class=\"dataframe\">\n",
              "  <thead>\n",
              "    <tr style=\"text-align: left;\">\n",
              "      <th>epoch</th>\n",
              "      <th>train_loss</th>\n",
              "      <th>valid_loss</th>\n",
              "      <th>batch_accuracy</th>\n",
              "      <th>time</th>\n",
              "    </tr>\n",
              "  </thead>\n",
              "  <tbody>\n",
              "    <tr>\n",
              "      <td>0</td>\n",
              "      <td>0.292292</td>\n",
              "      <td>0.407993</td>\n",
              "      <td>0.506379</td>\n",
              "      <td>00:00</td>\n",
              "    </tr>\n",
              "    <tr>\n",
              "      <td>1</td>\n",
              "      <td>0.138463</td>\n",
              "      <td>0.217417</td>\n",
              "      <td>0.816977</td>\n",
              "      <td>00:00</td>\n",
              "    </tr>\n",
              "    <tr>\n",
              "      <td>2</td>\n",
              "      <td>0.077834</td>\n",
              "      <td>0.111837</td>\n",
              "      <td>0.917566</td>\n",
              "      <td>00:00</td>\n",
              "    </tr>\n",
              "    <tr>\n",
              "      <td>3</td>\n",
              "      <td>0.051946</td>\n",
              "      <td>0.076536</td>\n",
              "      <td>0.940137</td>\n",
              "      <td>00:00</td>\n",
              "    </tr>\n",
              "    <tr>\n",
              "      <td>4</td>\n",
              "      <td>0.039825</td>\n",
              "      <td>0.060122</td>\n",
              "      <td>0.956330</td>\n",
              "      <td>00:00</td>\n",
              "    </tr>\n",
              "    <tr>\n",
              "      <td>5</td>\n",
              "      <td>0.033547</td>\n",
              "      <td>0.050868</td>\n",
              "      <td>0.964671</td>\n",
              "      <td>00:00</td>\n",
              "    </tr>\n",
              "    <tr>\n",
              "      <td>6</td>\n",
              "      <td>0.029892</td>\n",
              "      <td>0.045021</td>\n",
              "      <td>0.966634</td>\n",
              "      <td>00:00</td>\n",
              "    </tr>\n",
              "    <tr>\n",
              "      <td>7</td>\n",
              "      <td>0.027497</td>\n",
              "      <td>0.041007</td>\n",
              "      <td>0.967125</td>\n",
              "      <td>00:00</td>\n",
              "    </tr>\n",
              "    <tr>\n",
              "      <td>8</td>\n",
              "      <td>0.025765</td>\n",
              "      <td>0.038077</td>\n",
              "      <td>0.968106</td>\n",
              "      <td>00:00</td>\n",
              "    </tr>\n",
              "    <tr>\n",
              "      <td>9</td>\n",
              "      <td>0.024424</td>\n",
              "      <td>0.035832</td>\n",
              "      <td>0.969578</td>\n",
              "      <td>00:00</td>\n",
              "    </tr>\n",
              "    <tr>\n",
              "      <td>10</td>\n",
              "      <td>0.023336</td>\n",
              "      <td>0.034047</td>\n",
              "      <td>0.971541</td>\n",
              "      <td>00:00</td>\n",
              "    </tr>\n",
              "    <tr>\n",
              "      <td>11</td>\n",
              "      <td>0.022429</td>\n",
              "      <td>0.032578</td>\n",
              "      <td>0.973013</td>\n",
              "      <td>00:00</td>\n",
              "    </tr>\n",
              "    <tr>\n",
              "      <td>12</td>\n",
              "      <td>0.021654</td>\n",
              "      <td>0.031339</td>\n",
              "      <td>0.973503</td>\n",
              "      <td>00:00</td>\n",
              "    </tr>\n",
              "    <tr>\n",
              "      <td>13</td>\n",
              "      <td>0.020983</td>\n",
              "      <td>0.030273</td>\n",
              "      <td>0.974975</td>\n",
              "      <td>00:00</td>\n",
              "    </tr>\n",
              "    <tr>\n",
              "      <td>14</td>\n",
              "      <td>0.020392</td>\n",
              "      <td>0.029338</td>\n",
              "      <td>0.975466</td>\n",
              "      <td>00:00</td>\n",
              "    </tr>\n",
              "    <tr>\n",
              "      <td>15</td>\n",
              "      <td>0.019867</td>\n",
              "      <td>0.028508</td>\n",
              "      <td>0.975466</td>\n",
              "      <td>00:00</td>\n",
              "    </tr>\n",
              "    <tr>\n",
              "      <td>16</td>\n",
              "      <td>0.019396</td>\n",
              "      <td>0.027765</td>\n",
              "      <td>0.976448</td>\n",
              "      <td>00:00</td>\n",
              "    </tr>\n",
              "    <tr>\n",
              "      <td>17</td>\n",
              "      <td>0.018969</td>\n",
              "      <td>0.027095</td>\n",
              "      <td>0.976938</td>\n",
              "      <td>00:00</td>\n",
              "    </tr>\n",
              "    <tr>\n",
              "      <td>18</td>\n",
              "      <td>0.018581</td>\n",
              "      <td>0.026487</td>\n",
              "      <td>0.977429</td>\n",
              "      <td>00:00</td>\n",
              "    </tr>\n",
              "    <tr>\n",
              "      <td>19</td>\n",
              "      <td>0.018224</td>\n",
              "      <td>0.025933</td>\n",
              "      <td>0.977920</td>\n",
              "      <td>00:00</td>\n",
              "    </tr>\n",
              "    <tr>\n",
              "      <td>20</td>\n",
              "      <td>0.017896</td>\n",
              "      <td>0.025428</td>\n",
              "      <td>0.978410</td>\n",
              "      <td>00:00</td>\n",
              "    </tr>\n",
              "    <tr>\n",
              "      <td>21</td>\n",
              "      <td>0.017591</td>\n",
              "      <td>0.024965</td>\n",
              "      <td>0.978410</td>\n",
              "      <td>00:00</td>\n",
              "    </tr>\n",
              "    <tr>\n",
              "      <td>22</td>\n",
              "      <td>0.017308</td>\n",
              "      <td>0.024540</td>\n",
              "      <td>0.980373</td>\n",
              "      <td>00:00</td>\n",
              "    </tr>\n",
              "    <tr>\n",
              "      <td>23</td>\n",
              "      <td>0.017044</td>\n",
              "      <td>0.024148</td>\n",
              "      <td>0.980864</td>\n",
              "      <td>00:00</td>\n",
              "    </tr>\n",
              "    <tr>\n",
              "      <td>24</td>\n",
              "      <td>0.016795</td>\n",
              "      <td>0.023786</td>\n",
              "      <td>0.980864</td>\n",
              "      <td>00:00</td>\n",
              "    </tr>\n",
              "    <tr>\n",
              "      <td>25</td>\n",
              "      <td>0.016561</td>\n",
              "      <td>0.023452</td>\n",
              "      <td>0.981354</td>\n",
              "      <td>00:00</td>\n",
              "    </tr>\n",
              "    <tr>\n",
              "      <td>26</td>\n",
              "      <td>0.016341</td>\n",
              "      <td>0.023142</td>\n",
              "      <td>0.981354</td>\n",
              "      <td>00:00</td>\n",
              "    </tr>\n",
              "    <tr>\n",
              "      <td>27</td>\n",
              "      <td>0.016132</td>\n",
              "      <td>0.022854</td>\n",
              "      <td>0.981845</td>\n",
              "      <td>00:00</td>\n",
              "    </tr>\n",
              "    <tr>\n",
              "      <td>28</td>\n",
              "      <td>0.015934</td>\n",
              "      <td>0.022586</td>\n",
              "      <td>0.981845</td>\n",
              "      <td>00:00</td>\n",
              "    </tr>\n",
              "    <tr>\n",
              "      <td>29</td>\n",
              "      <td>0.015745</td>\n",
              "      <td>0.022336</td>\n",
              "      <td>0.981845</td>\n",
              "      <td>00:00</td>\n",
              "    </tr>\n",
              "    <tr>\n",
              "      <td>30</td>\n",
              "      <td>0.015566</td>\n",
              "      <td>0.022103</td>\n",
              "      <td>0.982336</td>\n",
              "      <td>00:00</td>\n",
              "    </tr>\n",
              "    <tr>\n",
              "      <td>31</td>\n",
              "      <td>0.015395</td>\n",
              "      <td>0.021885</td>\n",
              "      <td>0.982336</td>\n",
              "      <td>00:00</td>\n",
              "    </tr>\n",
              "    <tr>\n",
              "      <td>32</td>\n",
              "      <td>0.015231</td>\n",
              "      <td>0.021680</td>\n",
              "      <td>0.983317</td>\n",
              "      <td>00:00</td>\n",
              "    </tr>\n",
              "    <tr>\n",
              "      <td>33</td>\n",
              "      <td>0.015075</td>\n",
              "      <td>0.021489</td>\n",
              "      <td>0.982826</td>\n",
              "      <td>00:00</td>\n",
              "    </tr>\n",
              "    <tr>\n",
              "      <td>34</td>\n",
              "      <td>0.014926</td>\n",
              "      <td>0.021308</td>\n",
              "      <td>0.982826</td>\n",
              "      <td>00:00</td>\n",
              "    </tr>\n",
              "    <tr>\n",
              "      <td>35</td>\n",
              "      <td>0.014782</td>\n",
              "      <td>0.021138</td>\n",
              "      <td>0.982826</td>\n",
              "      <td>00:00</td>\n",
              "    </tr>\n",
              "    <tr>\n",
              "      <td>36</td>\n",
              "      <td>0.014644</td>\n",
              "      <td>0.020978</td>\n",
              "      <td>0.982826</td>\n",
              "      <td>00:00</td>\n",
              "    </tr>\n",
              "    <tr>\n",
              "      <td>37</td>\n",
              "      <td>0.014512</td>\n",
              "      <td>0.020826</td>\n",
              "      <td>0.982826</td>\n",
              "      <td>00:00</td>\n",
              "    </tr>\n",
              "    <tr>\n",
              "      <td>38</td>\n",
              "      <td>0.014384</td>\n",
              "      <td>0.020683</td>\n",
              "      <td>0.982826</td>\n",
              "      <td>00:00</td>\n",
              "    </tr>\n",
              "    <tr>\n",
              "      <td>39</td>\n",
              "      <td>0.014261</td>\n",
              "      <td>0.020546</td>\n",
              "      <td>0.982336</td>\n",
              "      <td>00:00</td>\n",
              "    </tr>\n",
              "  </tbody>\n",
              "</table>"
            ]
          },
          "metadata": {}
        }
      ],
      "source": [
        "learn.fit(40, 0.1)"
      ]
    },
    {
      "cell_type": "code",
      "execution_count": 397,
      "metadata": {
        "id": "dTXOumRwse7l",
        "outputId": "5e74061b-2ffe-4a8a-c209-06b0e5ce89ce",
        "colab": {
          "base_uri": "https://localhost:8080/",
          "height": 270
        }
      },
      "outputs": [
        {
          "output_type": "display_data",
          "data": {
            "text/plain": [
              "<Figure size 432x288 with 1 Axes>"
            ],
            "image/png": "[encoded data removed]"
          },
          "metadata": {
            "needs_background": "light"
          }
        }
      ],
      "source": [
        "plt.plot(L(learn.recorder.values).itemgot(2));"
      ]
    },
    {
      "cell_type": "code",
      "execution_count": 398,
      "metadata": {
        "id": "slVhZj71se7m",
        "outputId": "b9988be6-8bab-4770-806a-ad568b4080ad",
        "colab": {
          "base_uri": "https://localhost:8080/"
        }
      },
      "outputs": [
        {
          "output_type": "execute_result",
          "data": {
            "text/plain": [
              "0.98233562707901"
            ]
          },
          "metadata": {},
          "execution_count": 398
        }
      ],
      "source": [
        "learn.recorder.values[-1][2]"
      ]
    },
    {
      "cell_type": "markdown",
      "metadata": {
        "id": "TV0rXm87se7r"
      },
      "source": [
        "### Going Deeper"
      ]
    },
    {
      "cell_type": "code",
      "execution_count": 399,
      "metadata": {
        "id": "uNqAxdw7se7r",
        "outputId": "2c739592-7012-45b2-9144-5181994687b9",
        "colab": {
          "base_uri": "https://localhost:8080/",
          "height": 170
        }
      },
      "outputs": [
        {
          "output_type": "stream",
          "name": "stderr",
          "text": [
            "/usr/local/lib/python3.8/dist-packages/torchvision/models/_utils.py:208: UserWarning: The parameter 'pretrained' is deprecated since 0.13 and may be removed in the future, please use 'weights' instead.\n",
            "  warnings.warn(\n",
            "/usr/local/lib/python3.8/dist-packages/torchvision/models/_utils.py:223: UserWarning: Arguments other than a weight enum or `None` for 'weights' are deprecated since 0.13 and may be removed in the future. The current behavior is equivalent to passing `weights=None`.\n",
            "  warnings.warn(msg)\n"
          ]
        },
        {
          "output_type": "display_data",
          "data": {
            "text/plain": [
              "<IPython.core.display.HTML object>"
            ],
            "text/html": [
              "\n",
              "<style>\n",
              "    /* Turns off some styling */\n",
              "    progress {\n",
              "        /* gets rid of default border in Firefox and Opera. */\n",
              "        border: none;\n",
              "        /* Needs to be in here for Safari polyfill so background images work as expected. */\n",
              "        background-size: auto;\n",
              "    }\n",
              "    progress:not([value]), progress:not([value])::-webkit-progress-bar {\n",
              "        background: repeating-linear-gradient(45deg, #7e7e7e, #7e7e7e 10px, #5c5c5c 10px, #5c5c5c 20px);\n",
              "    }\n",
              "    .progress-bar-interrupted, .progress-bar-interrupted::-webkit-progress-bar {\n",
              "        background: #F44336;\n",
              "    }\n",
              "</style>\n"
            ]
          },
          "metadata": {}
        },
        {
          "output_type": "display_data",
          "data": {
            "text/plain": [
              "<IPython.core.display.HTML object>"
            ],
            "text/html": [
              "<table border=\"1\" class=\"dataframe\">\n",
              "  <thead>\n",
              "    <tr style=\"text-align: left;\">\n",
              "      <th>epoch</th>\n",
              "      <th>train_loss</th>\n",
              "      <th>valid_loss</th>\n",
              "      <th>accuracy</th>\n",
              "      <th>time</th>\n",
              "    </tr>\n",
              "  </thead>\n",
              "  <tbody>\n",
              "    <tr>\n",
              "      <td>0</td>\n",
              "      <td>0.135047</td>\n",
              "      <td>0.036506</td>\n",
              "      <td>0.992640</td>\n",
              "      <td>03:26</td>\n",
              "    </tr>\n",
              "  </tbody>\n",
              "</table>"
            ]
          },
          "metadata": {}
        }
      ],
      "source": [
        "dls = ImageDataLoaders.from_folder(path)\n",
        "learn = vision_learner(dls, resnet18, pretrained=False,\n",
        "                    loss_func=F.cross_entropy, metrics=accuracy)\n",
        "learn.fit_one_cycle(1, 0.1)"
      ]
    },
    {
      "cell_type": "markdown",
      "metadata": {
        "id": "YRaOYl8Cse7s"
      },
      "source": [
        "## Jargon Recap"
      ]
    },
    {
      "cell_type": "markdown",
      "metadata": {
        "id": "SUg4OPnSse7s"
      },
      "source": [
        "## Questionnaire"
      ]
    },
    {
      "cell_type": "markdown",
      "metadata": {
        "id": "e7_L5BJpse7s"
      },
      "source": [
        "1. How is a grayscale image represented on a computer? How about a color image?\n",
        "1. How are the files and folders in the `MNIST_SAMPLE` dataset structured? Why?\n",
        "1. Explain how the \"pixel similarity\" approach to classifying digits works.\n",
        "1. What is a list comprehension? Create one now that selects odd numbers from a list and doubles them.\n",
        "1. What is a \"rank-3 tensor\"?\n",
        "1. What is the difference between tensor rank and shape? How do you get the rank from the shape?\n",
        "1. What are RMSE and L1 norm?\n",
        "1. How can you apply a calculation on thousands of numbers at once, many thousands of times faster than a Python loop?\n",
        "1. Create a 3×3 tensor or array containing the numbers from 1 to 9. Double it. Select the bottom-right four numbers.\n",
        "1. What is broadcasting?\n",
        "1. Are metrics generally calculated using the training set, or the validation set? Why?\n",
        "1. What is SGD?\n",
        "1. Why does SGD use mini-batches?\n",
        "1. What are the seven steps in SGD for machine learning?\n",
        "1. How do we initialize the weights in a model?\n",
        "1. What is \"loss\"?\n",
        "1. Why can't we always use a high learning rate?\n",
        "1. What is a \"gradient\"?\n",
        "1. Do you need to know how to calculate gradients yourself?\n",
        "1. Why can't we use accuracy as a loss function?\n",
        "1. Draw the sigmoid function. What is special about its shape?\n",
        "1. What is the difference between a loss function and a metric?\n",
        "1. What is the function to calculate new weights using a learning rate?\n",
        "1. What does the `DataLoader` class do?\n",
        "1. Write pseudocode showing the basic steps taken in each epoch for SGD.\n",
        "1. Create a function that, if passed two arguments `[1,2,3,4]` and `'abcd'`, returns `[(1, 'a'), (2, 'b'), (3, 'c'), (4, 'd')]`. What is special about that output data structure?\n",
        "1. What does `view` do in PyTorch?\n",
        "1. What are the \"bias\" parameters in a neural network? Why do we need them?\n",
        "1. What does the `@` operator do in Python?\n",
        "1. What does the `backward` method do?\n",
        "1. Why do we have to zero the gradients?\n",
        "1. What information do we have to pass to `Learner`?\n",
        "1. Show Python or pseudocode for the basic steps of a training loop.\n",
        "1. What is \"ReLU\"? Draw a plot of it for values from `-2` to `+2`.\n",
        "1. What is an \"activation function\"?\n",
        "1. What's the difference between `F.relu` and `nn.ReLU`?\n",
        "1. The universal approximation theorem shows that any function can be approximated as closely as needed using just one nonlinearity. So why do we normally use more?"
      ]
    },
    {
      "cell_type": "markdown",
      "metadata": {
        "id": "0cNUVPS1se7u"
      },
      "source": [
        "### Further Research"
      ]
    },
    {
      "cell_type": "markdown",
      "metadata": {
        "id": "unAo9FEese7u"
      },
      "source": [
        "1. Create your own implementation of `Learner` from scratch, based on the training loop shown in this chapter.\n",
        "1. Complete all the steps in this chapter using the full MNIST datasets (that is, for all digits, not just 3s and 7s). This is a significant project and will take you quite a bit of time to complete! You'll need to do some of your own research to figure out how to overcome some obstacles you'll meet on the way."
      ]
    },
    {
      "cell_type": "code",
      "execution_count": null,
      "metadata": {
        "id": "cfElc5Ntse7u"
      },
      "outputs": [],
      "source": []
    }
  ],
  "metadata": {
    "jupytext": {
      "split_at_heading": true
    },
    "kernelspec": {
      "display_name": "Python 3.10.1 64-bit",
      "language": "python",
      "name": "python3"
    },
    "language_info": {
      "codemirror_mode": {
        "name": "ipython",
        "version": 3
      },
      "file_extension": ".py",
      "mimetype": "text/x-python",
      "name": "python",
      "nbconvert_exporter": "python",
      "pygments_lexer": "ipython3",
      "version": "3.10.1"
    },
    "vscode": {
      "interpreter": {
        "hash": "7a26c27a2e6499699a9ffab2d6930fbed9836ac7e3d973e26cf29096dd091246"
      }
    },
    "colab": {
      "provenance": []
    },
    "gpuClass": "standard"
  },
  "nbformat": 4,
  "nbformat_minor": 0
}